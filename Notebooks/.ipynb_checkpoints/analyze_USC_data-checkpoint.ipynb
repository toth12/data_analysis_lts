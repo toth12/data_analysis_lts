{
 "cells": [
  {
   "cell_type": "markdown",
   "metadata": {},
   "source": [
    "## LTS USC Data Analysis"
   ]
  },
  {
   "cell_type": "markdown",
   "metadata": {},
   "source": [
    "The goal of this notebook is to analyze the data provided by the USC Shoah Foundation to the project *Let them Speak* and to offer quantitative insights into the data."
   ]
  },
  {
   "cell_type": "markdown",
   "metadata": {},
   "source": [
    "### Import the libraries needed"
   ]
  },
  {
   "cell_type": "code",
   "execution_count": 46,
   "metadata": {},
   "outputs": [
    {
     "name": "stderr",
     "output_type": "stream",
     "text": [
      "/miniconda3/lib/python3.7/site-packages/tqdm/std.py:668: FutureWarning: The Panel class is removed from pandas. Accessing it from the top-level namespace will also be removed in the next version\n",
      "  from pandas import Panel\n"
     ]
    }
   ],
   "source": [
    "import sys; sys.path.insert(0, '..')\n",
    "import pandas as pd\n",
    "import os\n",
    "from tqdm.notebook import tqdm\n",
    "import constants\n",
    "tqdm.pandas()\n",
    "path = os.getcwd()\n",
    "parent = os.path.abspath(os.path.join(path, os.pardir))\n"
   ]
  },
  {
   "cell_type": "code",
   "execution_count": 47,
   "metadata": {},
   "outputs": [],
   "source": [
    "from Utilities import mongo_helper\n",
    "from Utilities import blacklab"
   ]
  },
  {
   "cell_type": "markdown",
   "metadata": {},
   "source": [
    "### Load the necessary data into a panda dataframe"
   ]
  },
  {
   "cell_type": "markdown",
   "metadata": {},
   "source": [
    "Get the testimonies metadata from the LTS database"
   ]
  },
  {
   "cell_type": "code",
   "execution_count": 48,
   "metadata": {},
   "outputs": [],
   "source": [
    "collection = \"USC\"\n",
    "db = \"lts\"\n",
    "testimonies = mongo_helper.query(db,\"testimonies\",{'collection':collection},{'structured_transcript':0,'html_transcript':0,'_id':0})"
   ]
  },
  {
   "cell_type": "code",
   "execution_count": 49,
   "metadata": {},
   "outputs": [],
   "source": [
    "df_testimonies = pd.DataFrame(testimonies)\n",
    "df_testimonies =df_testimonies[df_testimonies['status']==\"transcript_processed\"]"
   ]
  },
  {
   "cell_type": "code",
   "execution_count": 50,
   "metadata": {},
   "outputs": [],
   "source": [
    "if collection == \"Fortunoff\":\n",
    "    additional_metadata=pd.read_csv(parent+'/Data/Output/'+'fortunoff_metadata.csv')\n",
    "    df_testimonies = df_testimonies.merge(additional_metadata)\n",
    "elif collection ==\"USC\":\n",
    "    additional_metadata=pd.read_csv(parent+'/Data/Output/'+'usc_metadata.csv')\n",
    "    df_testimonies = df_testimonies.merge(additional_metadata)"
   ]
  },
  {
   "cell_type": "code",
   "execution_count": 51,
   "metadata": {},
   "outputs": [],
   "source": [
    "def normalize_interview_codes(int_code):\n",
    "    import re\n",
    "    int_code = int_code.split('-')[1]\n",
    "    x = re.split(\"^0*\",int_code)\n",
    "    if len(x)>1:\n",
    "        return 'HVT-'+x[1]\n",
    "    else:\n",
    "        'HVT-'+x[0]"
   ]
  },
  {
   "cell_type": "markdown",
   "metadata": {},
   "source": [
    "Add additional metadata to various collections"
   ]
  },
  {
   "cell_type": "code",
   "execution_count": 52,
   "metadata": {},
   "outputs": [],
   "source": [
    "import json\n",
    "if collection == \"Fortunoff\":\n",
    "    metadata=open(parent+'/Data/Input/Fortunoff_Metadata/index.8.min.json')\n",
    "    text = metadata.read()\n",
    "    additional_metadata = json.loads(text)\n",
    "    df_metadata = pd.DataFrame(additional_metadata)\n",
    "    df_metadata = df_metadata[['id','birth_place_countries',]]\n",
    "    df_metadata = df_metadata.rename(columns={\"id\": \"testimony_id\"})\n",
    "    df_metadata['testimony_id'] = df_metadata.testimony_id.apply(normalize_interview_codes)\n",
    "    df_testimonies = df_testimonies.merge(df_metadata,on='testimony_id')"
   ]
  },
  {
   "cell_type": "markdown",
   "metadata": {},
   "source": [
    "Load the word counts"
   ]
  },
  {
   "cell_type": "code",
   "execution_count": 53,
   "metadata": {},
   "outputs": [],
   "source": [
    "word_counts =pd.read_csv(parent+'/Data/Output/'+'word_counts.csv')\n",
    "df_testimonies = df_testimonies.merge(word_counts[['testimony_id','word_count']])"
   ]
  },
  {
   "cell_type": "markdown",
   "metadata": {},
   "source": [
    "### Print the number of testimonies that are processed and in the dataset"
   ]
  },
  {
   "cell_type": "code",
   "execution_count": 54,
   "metadata": {},
   "outputs": [
    {
     "name": "stdout",
     "output_type": "stream",
     "text": [
      "976\n"
     ]
    }
   ],
   "source": [
    "print (len(df_testimonies[df_testimonies['status']==\"transcript_processed\"]))"
   ]
  },
  {
   "cell_type": "markdown",
   "metadata": {},
   "source": [
    "### Make a historiogram about the distribution of interview years"
   ]
  },
  {
   "cell_type": "code",
   "execution_count": 180,
   "metadata": {},
   "outputs": [
    {
     "data": {
      "image/png": "[encoded data removed]",
      "text/plain": [
       "<Figure size 432x288 with 1 Axes>"
      ]
     },
     "metadata": {
      "needs_background": "light"
     },
     "output_type": "display_data"
    }
   ],
   "source": [
    "plot = df_testimonies.recording_year.plot.hist()\n",
    "plot.set_xlabel(\"Recording years\")\n",
    "fig =df_testimonies.recording_year.plot.hist().get_figure()\n",
    "fig.savefig('distribution_interview_years_'+collection+'.png')"
   ]
  },
  {
   "cell_type": "markdown",
   "metadata": {},
   "source": [
    "### Print the earliest and latest interviews"
   ]
  },
  {
   "cell_type": "code",
   "execution_count": 56,
   "metadata": {},
   "outputs": [
    {
     "data": {
      "text/plain": [
       "1998"
      ]
     },
     "execution_count": 56,
     "metadata": {},
     "output_type": "execute_result"
    }
   ],
   "source": [
    "df_testimonies.recording_year.max()"
   ]
  },
  {
   "cell_type": "code",
   "execution_count": 57,
   "metadata": {},
   "outputs": [
    {
     "data": {
      "text/plain": [
       "1994"
      ]
     },
     "execution_count": 57,
     "metadata": {},
     "output_type": "execute_result"
    }
   ],
   "source": [
    "df_testimonies.recording_year.min()"
   ]
  },
  {
   "cell_type": "markdown",
   "metadata": {},
   "source": [
    "### Print the average token number"
   ]
  },
  {
   "cell_type": "code",
   "execution_count": 58,
   "metadata": {},
   "outputs": [],
   "source": [
    "def get_token_counts(testimony_id):\n",
    "    result = blacklab.iterable_results('[]',lemma=False,path_to_phrase_model=None,window=0,document_ids=[testimony_id])\n",
    "    tokens = [element for element in result]\n",
    "    return (len(tokens))"
   ]
  },
  {
   "cell_type": "markdown",
   "metadata": {},
   "source": [
    "### Print the median token number"
   ]
  },
  {
   "cell_type": "code",
   "execution_count": 136,
   "metadata": {},
   "outputs": [
    {
     "data": {
      "text/plain": [
       "count       976.000000\n",
       "mean      24490.770492\n",
       "std        9766.249228\n",
       "min        4993.000000\n",
       "25%       18256.750000\n",
       "50%       22834.000000\n",
       "75%       28603.750000\n",
       "max      112685.000000\n",
       "Name: word_count, dtype: float64"
      ]
     },
     "execution_count": 136,
     "metadata": {},
     "output_type": "execute_result"
    }
   ],
   "source": [
    "df_testimonies['word_count'].describeribe()"
   ]
  },
  {
   "cell_type": "markdown",
   "metadata": {},
   "source": [
    "### Print the shortest interviews"
   ]
  },
  {
   "cell_type": "code",
   "execution_count": 139,
   "metadata": {},
   "outputs": [
    {
     "data": {
      "text/html": [
       "<div>\n",
       "<style scoped>\n",
       "    .dataframe tbody tr th:only-of-type {\n",
       "        vertical-align: middle;\n",
       "    }\n",
       "\n",
       "    .dataframe tbody tr th {\n",
       "        vertical-align: top;\n",
       "    }\n",
       "\n",
       "    .dataframe thead th {\n",
       "        text-align: right;\n",
       "    }\n",
       "</style>\n",
       "<table border=\"1\" class=\"dataframe\">\n",
       "  <thead>\n",
       "    <tr style=\"text-align: right;\">\n",
       "      <th></th>\n",
       "      <th>testimony_title</th>\n",
       "      <th>word_count</th>\n",
       "    </tr>\n",
       "  </thead>\n",
       "  <tbody>\n",
       "    <tr>\n",
       "      <th>27</th>\n",
       "      <td>Oral history interview with Al Drotow</td>\n",
       "      <td>4993</td>\n",
       "    </tr>\n",
       "    <tr>\n",
       "      <th>296</th>\n",
       "      <td>Oral history interview with Bianca Israeli</td>\n",
       "      <td>6920</td>\n",
       "    </tr>\n",
       "    <tr>\n",
       "      <th>159</th>\n",
       "      <td>Oral history interview with Ester Krik</td>\n",
       "      <td>7068</td>\n",
       "    </tr>\n",
       "    <tr>\n",
       "      <th>768</th>\n",
       "      <td>Oral history interview with Ann Eichner</td>\n",
       "      <td>7313</td>\n",
       "    </tr>\n",
       "    <tr>\n",
       "      <th>97</th>\n",
       "      <td>Oral history interview with Richard Billauer</td>\n",
       "      <td>7329</td>\n",
       "    </tr>\n",
       "    <tr>\n",
       "      <th>324</th>\n",
       "      <td>Oral history interview with Sabina Heller</td>\n",
       "      <td>7446</td>\n",
       "    </tr>\n",
       "    <tr>\n",
       "      <th>9</th>\n",
       "      <td>Oral history interview with Nathan Shapow</td>\n",
       "      <td>7451</td>\n",
       "    </tr>\n",
       "    <tr>\n",
       "      <th>564</th>\n",
       "      <td>Oral history interview with Miriam Buks</td>\n",
       "      <td>7623</td>\n",
       "    </tr>\n",
       "    <tr>\n",
       "      <th>957</th>\n",
       "      <td>Oral history interview with James Krauss</td>\n",
       "      <td>8401</td>\n",
       "    </tr>\n",
       "    <tr>\n",
       "      <th>801</th>\n",
       "      <td>Oral history interview with Charles Mudryk</td>\n",
       "      <td>8775</td>\n",
       "    </tr>\n",
       "    <tr>\n",
       "      <th>533</th>\n",
       "      <td>Oral history interview with Meyer Cyker</td>\n",
       "      <td>9155</td>\n",
       "    </tr>\n",
       "    <tr>\n",
       "      <th>432</th>\n",
       "      <td>Oral history interview with Khane Baltser</td>\n",
       "      <td>9394</td>\n",
       "    </tr>\n",
       "    <tr>\n",
       "      <th>917</th>\n",
       "      <td>Oral history interview with Dora Drescher</td>\n",
       "      <td>9501</td>\n",
       "    </tr>\n",
       "    <tr>\n",
       "      <th>111</th>\n",
       "      <td>Oral history interview with Adam Schwartz</td>\n",
       "      <td>9655</td>\n",
       "    </tr>\n",
       "    <tr>\n",
       "      <th>959</th>\n",
       "      <td>Oral history interview with Rose Patoka</td>\n",
       "      <td>9686</td>\n",
       "    </tr>\n",
       "    <tr>\n",
       "      <th>21</th>\n",
       "      <td>Oral history interview with Fela Gipsman</td>\n",
       "      <td>9763</td>\n",
       "    </tr>\n",
       "    <tr>\n",
       "      <th>362</th>\n",
       "      <td>Oral history interview with Pincus Weinstock</td>\n",
       "      <td>9784</td>\n",
       "    </tr>\n",
       "    <tr>\n",
       "      <th>40</th>\n",
       "      <td>Oral history interview with Barbara Drotow</td>\n",
       "      <td>9793</td>\n",
       "    </tr>\n",
       "    <tr>\n",
       "      <th>91</th>\n",
       "      <td>Oral history interview with Jan Karski</td>\n",
       "      <td>9842</td>\n",
       "    </tr>\n",
       "    <tr>\n",
       "      <th>14</th>\n",
       "      <td>Oral history interview with James Hayes</td>\n",
       "      <td>10054</td>\n",
       "    </tr>\n",
       "  </tbody>\n",
       "</table>\n",
       "</div>"
      ],
      "text/plain": [
       "                                  testimony_title  word_count\n",
       "27          Oral history interview with Al Drotow        4993\n",
       "296    Oral history interview with Bianca Israeli        6920\n",
       "159        Oral history interview with Ester Krik        7068\n",
       "768       Oral history interview with Ann Eichner        7313\n",
       "97   Oral history interview with Richard Billauer        7329\n",
       "324     Oral history interview with Sabina Heller        7446\n",
       "9       Oral history interview with Nathan Shapow        7451\n",
       "564       Oral history interview with Miriam Buks        7623\n",
       "957      Oral history interview with James Krauss        8401\n",
       "801    Oral history interview with Charles Mudryk        8775\n",
       "533       Oral history interview with Meyer Cyker        9155\n",
       "432     Oral history interview with Khane Baltser        9394\n",
       "917     Oral history interview with Dora Drescher        9501\n",
       "111     Oral history interview with Adam Schwartz        9655\n",
       "959       Oral history interview with Rose Patoka        9686\n",
       "21       Oral history interview with Fela Gipsman        9763\n",
       "362  Oral history interview with Pincus Weinstock        9784\n",
       "40     Oral history interview with Barbara Drotow        9793\n",
       "91         Oral history interview with Jan Karski        9842\n",
       "14        Oral history interview with James Hayes       10054"
      ]
     },
     "execution_count": 139,
     "metadata": {},
     "output_type": "execute_result"
    }
   ],
   "source": [
    "df_testimonies.sort_values('word_count')[0:20][['testimony_title','word_count']]"
   ]
  },
  {
   "cell_type": "markdown",
   "metadata": {},
   "source": [
    "### Print the longest interviews"
   ]
  },
  {
   "cell_type": "code",
   "execution_count": 134,
   "metadata": {},
   "outputs": [
    {
     "data": {
      "text/html": [
       "<div>\n",
       "<style scoped>\n",
       "    .dataframe tbody tr th:only-of-type {\n",
       "        vertical-align: middle;\n",
       "    }\n",
       "\n",
       "    .dataframe tbody tr th {\n",
       "        vertical-align: top;\n",
       "    }\n",
       "\n",
       "    .dataframe thead th {\n",
       "        text-align: right;\n",
       "    }\n",
       "</style>\n",
       "<table border=\"1\" class=\"dataframe\">\n",
       "  <thead>\n",
       "    <tr style=\"text-align: right;\">\n",
       "      <th></th>\n",
       "      <th>testimony_title</th>\n",
       "      <th>word_count</th>\n",
       "    </tr>\n",
       "  </thead>\n",
       "  <tbody>\n",
       "    <tr>\n",
       "      <th>942</th>\n",
       "      <td>Oral history interview with Wanda Mehr</td>\n",
       "      <td>112685</td>\n",
       "    </tr>\n",
       "    <tr>\n",
       "      <th>922</th>\n",
       "      <td>Oral history interview with Michael Honey</td>\n",
       "      <td>72760</td>\n",
       "    </tr>\n",
       "    <tr>\n",
       "      <th>953</th>\n",
       "      <td>Oral history interview with Yehudah Baḳon</td>\n",
       "      <td>70289</td>\n",
       "    </tr>\n",
       "    <tr>\n",
       "      <th>933</th>\n",
       "      <td>Oral history interview with Michael Jackson</td>\n",
       "      <td>69429</td>\n",
       "    </tr>\n",
       "    <tr>\n",
       "      <th>389</th>\n",
       "      <td>Oral history interview with Saartje Engel Wynberg</td>\n",
       "      <td>62653</td>\n",
       "    </tr>\n",
       "    <tr>\n",
       "      <th>31</th>\n",
       "      <td>Oral history interview with Henry Rosmarin</td>\n",
       "      <td>62577</td>\n",
       "    </tr>\n",
       "    <tr>\n",
       "      <th>495</th>\n",
       "      <td>Oral history interview with Itka Zygmuntowicz</td>\n",
       "      <td>61715</td>\n",
       "    </tr>\n",
       "    <tr>\n",
       "      <th>783</th>\n",
       "      <td>Oral history interview with Leon Scher</td>\n",
       "      <td>61489</td>\n",
       "    </tr>\n",
       "    <tr>\n",
       "      <th>346</th>\n",
       "      <td>Oral history interview with Dennis Urstein</td>\n",
       "      <td>59919</td>\n",
       "    </tr>\n",
       "    <tr>\n",
       "      <th>795</th>\n",
       "      <td>Oral history interview with Ruth Crane</td>\n",
       "      <td>59329</td>\n",
       "    </tr>\n",
       "  </tbody>\n",
       "</table>\n",
       "</div>"
      ],
      "text/plain": [
       "                                       testimony_title  word_count\n",
       "942             Oral history interview with Wanda Mehr      112685\n",
       "922          Oral history interview with Michael Honey       72760\n",
       "953          Oral history interview with Yehudah Baḳon       70289\n",
       "933        Oral history interview with Michael Jackson       69429\n",
       "389  Oral history interview with Saartje Engel Wynberg       62653\n",
       "31          Oral history interview with Henry Rosmarin       62577\n",
       "495      Oral history interview with Itka Zygmuntowicz       61715\n",
       "783             Oral history interview with Leon Scher       61489\n",
       "346         Oral history interview with Dennis Urstein       59919\n",
       "795             Oral history interview with Ruth Crane       59329"
      ]
     },
     "execution_count": 134,
     "metadata": {},
     "output_type": "execute_result"
    }
   ],
   "source": [
    "df_testimonies.sort_values('word_count',ascending=False)[0:10][['testimony_title','word_count']]"
   ]
  },
  {
   "cell_type": "markdown",
   "metadata": {},
   "source": [
    "### Print a histogram"
   ]
  },
  {
   "cell_type": "code",
   "execution_count": 181,
   "metadata": {},
   "outputs": [
    {
     "data": {
      "image/png": "[encoded data removed]",
      "text/plain": [
       "<Figure size 432x288 with 1 Axes>"
      ]
     },
     "metadata": {
      "needs_background": "light"
     },
     "output_type": "display_data"
    }
   ],
   "source": [
    "plot = df_testimonies.word_count.plot.hist()\n",
    "plot.set_xlabel(\"Word counts\")\n",
    "fig =plot.get_figure()\n",
    "fig.savefig('distribution_word_counts_'+collection+'.png')"
   ]
  },
  {
   "cell_type": "code",
   "execution_count": 143,
   "metadata": {},
   "outputs": [
    {
     "data": {
      "text/html": [
       "<div>\n",
       "<style scoped>\n",
       "    .dataframe tbody tr th:only-of-type {\n",
       "        vertical-align: middle;\n",
       "    }\n",
       "\n",
       "    .dataframe tbody tr th {\n",
       "        vertical-align: top;\n",
       "    }\n",
       "\n",
       "    .dataframe thead th {\n",
       "        text-align: right;\n",
       "    }\n",
       "</style>\n",
       "<table border=\"1\" class=\"dataframe\">\n",
       "  <thead>\n",
       "    <tr style=\"text-align: right;\">\n",
       "      <th></th>\n",
       "      <th>recording_year</th>\n",
       "      <th>testimony_title</th>\n",
       "      <th>ghetto_names</th>\n",
       "      <th>gender</th>\n",
       "      <th>provenance</th>\n",
       "      <th>camp_names</th>\n",
       "      <th>collection</th>\n",
       "      <th>interviewee_name</th>\n",
       "      <th>thumbnail_url</th>\n",
       "      <th>shelfmark</th>\n",
       "      <th>...</th>\n",
       "      <th>media_url</th>\n",
       "      <th>IntCode</th>\n",
       "      <th>status</th>\n",
       "      <th>Unnamed: 0</th>\n",
       "      <th>interviewee_year_of_birth</th>\n",
       "      <th>birth_place_countries</th>\n",
       "      <th>interview_length</th>\n",
       "      <th>interview_location</th>\n",
       "      <th>word_count</th>\n",
       "      <th>age_interview_year</th>\n",
       "    </tr>\n",
       "  </thead>\n",
       "  <tbody>\n",
       "    <tr>\n",
       "      <th>31</th>\n",
       "      <td>1998</td>\n",
       "      <td>Oral history interview with Henry Rosmarin</td>\n",
       "      <td>[Będzin, Czeladz]</td>\n",
       "      <td>male</td>\n",
       "      <td></td>\n",
       "      <td>[Buchenwald, Dyhernfurth, Fünfteichen, Gross-R...</td>\n",
       "      <td>USC</td>\n",
       "      <td>Henry Rosmarin</td>\n",
       "      <td>https://vhaonline.usc.edu/VHAimages/icons/0026...</td>\n",
       "      <td>USC 268</td>\n",
       "      <td>...</td>\n",
       "      <td>[https://youtu.be/V0vkBkpmt8A, https://youtu.b...</td>\n",
       "      <td>268</td>\n",
       "      <td>transcript_processed</td>\n",
       "      <td>31</td>\n",
       "      <td>1925.0</td>\n",
       "      <td>Poland</td>\n",
       "      <td>06:18:07</td>\n",
       "      <td>U.S.A.</td>\n",
       "      <td>62577</td>\n",
       "      <td>73.0</td>\n",
       "    </tr>\n",
       "    <tr>\n",
       "      <th>79</th>\n",
       "      <td>1995</td>\n",
       "      <td>Oral history interview with Silvia Grohs-Martin</td>\n",
       "      <td>[]</td>\n",
       "      <td>female</td>\n",
       "      <td></td>\n",
       "      <td>[Auschwitz II-Birkenau, Mechelen, Ravensbrück]</td>\n",
       "      <td>USC</td>\n",
       "      <td>Silvia Grohs-Martin</td>\n",
       "      <td>https://vhaonline.usc.edu/VHAimages/icons/0093...</td>\n",
       "      <td>USC 935</td>\n",
       "      <td>...</td>\n",
       "      <td>[https://youtu.be/z7basawOtlo, https://youtu.b...</td>\n",
       "      <td>935</td>\n",
       "      <td>transcript_processed</td>\n",
       "      <td>79</td>\n",
       "      <td>1918.0</td>\n",
       "      <td>Austria-Hungary</td>\n",
       "      <td>04:57:20</td>\n",
       "      <td>U.S.A.</td>\n",
       "      <td>54625</td>\n",
       "      <td>77.0</td>\n",
       "    </tr>\n",
       "    <tr>\n",
       "      <th>346</th>\n",
       "      <td>1995</td>\n",
       "      <td>Oral history interview with Dennis Urstein</td>\n",
       "      <td>[]</td>\n",
       "      <td>male</td>\n",
       "      <td></td>\n",
       "      <td>[Auschwitz I, Auschwitz II-Birkenau, Buchenwal...</td>\n",
       "      <td>USC</td>\n",
       "      <td>Dennis Urstein</td>\n",
       "      <td>https://vhaonline.usc.edu/VHAimages/icons/0671...</td>\n",
       "      <td>USC 6719</td>\n",
       "      <td>...</td>\n",
       "      <td>[https://youtu.be/fHj9EUfTiew, https://youtu.b...</td>\n",
       "      <td>6719</td>\n",
       "      <td>transcript_processed</td>\n",
       "      <td>346</td>\n",
       "      <td>1924.0</td>\n",
       "      <td>Austria</td>\n",
       "      <td>04:57:53</td>\n",
       "      <td>Canada</td>\n",
       "      <td>59919</td>\n",
       "      <td>71.0</td>\n",
       "    </tr>\n",
       "    <tr>\n",
       "      <th>389</th>\n",
       "      <td>1995</td>\n",
       "      <td>Oral history interview with Saartje Engel Wynberg</td>\n",
       "      <td>[]</td>\n",
       "      <td>female</td>\n",
       "      <td></td>\n",
       "      <td>[Herzogenbusch, Sobibór, Westerbork]</td>\n",
       "      <td>USC</td>\n",
       "      <td>Saartje Engel Wynberg</td>\n",
       "      <td>https://vhaonline.usc.edu/VHAimages/icons/0768...</td>\n",
       "      <td>USC 7684</td>\n",
       "      <td>...</td>\n",
       "      <td>[https://youtu.be/q_cm3FDwaKo, https://youtu.b...</td>\n",
       "      <td>7684</td>\n",
       "      <td>transcript_processed</td>\n",
       "      <td>389</td>\n",
       "      <td>1922.0</td>\n",
       "      <td>Netherlands</td>\n",
       "      <td>05:15:45</td>\n",
       "      <td>U.S.A.</td>\n",
       "      <td>62653</td>\n",
       "      <td>73.0</td>\n",
       "    </tr>\n",
       "    <tr>\n",
       "      <th>495</th>\n",
       "      <td>1996</td>\n",
       "      <td>Oral history interview with Itka Zygmuntowicz</td>\n",
       "      <td>[Nowe Miasto]</td>\n",
       "      <td>female</td>\n",
       "      <td></td>\n",
       "      <td>[Auschwitz II-Birkenau, Malchow, Ravensbrück]</td>\n",
       "      <td>USC</td>\n",
       "      <td>Itka Zygmuntowicz</td>\n",
       "      <td>https://vhaonline.usc.edu/VHAimages/icons/1058...</td>\n",
       "      <td>USC 10588</td>\n",
       "      <td>...</td>\n",
       "      <td>[https://youtu.be/dOClQ7ZZcQ0, https://youtu.b...</td>\n",
       "      <td>10588</td>\n",
       "      <td>transcript_processed</td>\n",
       "      <td>495</td>\n",
       "      <td>1926.0</td>\n",
       "      <td>Poland</td>\n",
       "      <td>05:50:09</td>\n",
       "      <td>U.S.A.</td>\n",
       "      <td>61715</td>\n",
       "      <td>70.0</td>\n",
       "    </tr>\n",
       "    <tr>\n",
       "      <th>596</th>\n",
       "      <td>1996</td>\n",
       "      <td>Oral history interview with Paul Oppenheimer</td>\n",
       "      <td>[]</td>\n",
       "      <td>male</td>\n",
       "      <td></td>\n",
       "      <td>[Bergen-Belsen, Westerbork]</td>\n",
       "      <td>USC</td>\n",
       "      <td>Paul Oppenheimer</td>\n",
       "      <td>https://vhaonline.usc.edu/VHAimages/icons/1346...</td>\n",
       "      <td>USC 13469</td>\n",
       "      <td>...</td>\n",
       "      <td>[https://youtu.be/-rNJvYMCGpA, https://youtu.b...</td>\n",
       "      <td>13469</td>\n",
       "      <td>transcript_processed</td>\n",
       "      <td>596</td>\n",
       "      <td>1928.0</td>\n",
       "      <td>Germany</td>\n",
       "      <td>04:45:21</td>\n",
       "      <td>United Kingdom</td>\n",
       "      <td>54343</td>\n",
       "      <td>68.0</td>\n",
       "    </tr>\n",
       "    <tr>\n",
       "      <th>657</th>\n",
       "      <td>1996</td>\n",
       "      <td>Oral history interview with Henry Wermuth</td>\n",
       "      <td>[Bochnia]</td>\n",
       "      <td>male</td>\n",
       "      <td></td>\n",
       "      <td>[Auschwitz, Auschwitz III-Monowitz, Freiheit-O...</td>\n",
       "      <td>USC</td>\n",
       "      <td>Henry Wermuth</td>\n",
       "      <td>https://vhaonline.usc.edu/VHAimages/icons/1569...</td>\n",
       "      <td>USC 15694</td>\n",
       "      <td>...</td>\n",
       "      <td>[https://youtu.be/DuMgqybYPfQ, https://youtu.b...</td>\n",
       "      <td>15694</td>\n",
       "      <td>transcript_processed</td>\n",
       "      <td>657</td>\n",
       "      <td>1923.0</td>\n",
       "      <td>Germany</td>\n",
       "      <td>05:58:35</td>\n",
       "      <td>United Kingdom</td>\n",
       "      <td>56337</td>\n",
       "      <td>73.0</td>\n",
       "    </tr>\n",
       "    <tr>\n",
       "      <th>687</th>\n",
       "      <td>1996</td>\n",
       "      <td>Oral history interview with Freddy Diament</td>\n",
       "      <td>[]</td>\n",
       "      <td>male</td>\n",
       "      <td></td>\n",
       "      <td>[Auschwitz III-Monowitz, Gleiwitz II, Reichenb...</td>\n",
       "      <td>USC</td>\n",
       "      <td>Freddy Diament</td>\n",
       "      <td>https://vhaonline.usc.edu/VHAimages/icons/1713...</td>\n",
       "      <td>USC 17135</td>\n",
       "      <td>...</td>\n",
       "      <td>[https://youtu.be/4bHB8OhACi8, https://youtu.b...</td>\n",
       "      <td>17135</td>\n",
       "      <td>transcript_processed</td>\n",
       "      <td>687</td>\n",
       "      <td>1924.0</td>\n",
       "      <td>Germany</td>\n",
       "      <td>04:41:24</td>\n",
       "      <td>Poland</td>\n",
       "      <td>52161</td>\n",
       "      <td>72.0</td>\n",
       "    </tr>\n",
       "    <tr>\n",
       "      <th>723</th>\n",
       "      <td>1996</td>\n",
       "      <td>Oral history interview with Morris Rich</td>\n",
       "      <td>[Kaunas]</td>\n",
       "      <td>male</td>\n",
       "      <td></td>\n",
       "      <td>[Dachau]</td>\n",
       "      <td>USC</td>\n",
       "      <td>Morris Rich</td>\n",
       "      <td>https://vhaonline.usc.edu/VHAimages/icons/1862...</td>\n",
       "      <td>USC 18626</td>\n",
       "      <td>...</td>\n",
       "      <td>[https://youtu.be/s4HtO2tV5Jo, https://youtu.b...</td>\n",
       "      <td>18626</td>\n",
       "      <td>transcript_processed</td>\n",
       "      <td>723</td>\n",
       "      <td>1924.0</td>\n",
       "      <td>Lithuania</td>\n",
       "      <td>05:50:54</td>\n",
       "      <td>U.S.A.</td>\n",
       "      <td>53499</td>\n",
       "      <td>72.0</td>\n",
       "    </tr>\n",
       "    <tr>\n",
       "      <th>765</th>\n",
       "      <td>1996</td>\n",
       "      <td>Oral history interview with Eva Schloss</td>\n",
       "      <td>[]</td>\n",
       "      <td>female</td>\n",
       "      <td></td>\n",
       "      <td>[Auschwitz II-Birkenau, Westerbork]</td>\n",
       "      <td>USC</td>\n",
       "      <td>Eva Schloss</td>\n",
       "      <td>https://vhaonline.usc.edu/VHAimages/icons/2008...</td>\n",
       "      <td>USC 20088</td>\n",
       "      <td>...</td>\n",
       "      <td>[https://youtu.be/TmJzyhdRTtQ, https://youtu.b...</td>\n",
       "      <td>20088</td>\n",
       "      <td>transcript_processed</td>\n",
       "      <td>765</td>\n",
       "      <td>1929.0</td>\n",
       "      <td>Austria</td>\n",
       "      <td>05:11:59</td>\n",
       "      <td>United Kingdom</td>\n",
       "      <td>51536</td>\n",
       "      <td>67.0</td>\n",
       "    </tr>\n",
       "    <tr>\n",
       "      <th>783</th>\n",
       "      <td>1996</td>\n",
       "      <td>Oral history interview with Leon Scher</td>\n",
       "      <td>[Jaworów]</td>\n",
       "      <td>male</td>\n",
       "      <td></td>\n",
       "      <td>[Jaktorów]</td>\n",
       "      <td>USC</td>\n",
       "      <td>Leon Scher</td>\n",
       "      <td>https://vhaonline.usc.edu/VHAimages/icons/2100...</td>\n",
       "      <td>USC 21004</td>\n",
       "      <td>...</td>\n",
       "      <td>[https://youtu.be/B6Q9kyTFioE, https://youtu.b...</td>\n",
       "      <td>21004</td>\n",
       "      <td>transcript_processed</td>\n",
       "      <td>783</td>\n",
       "      <td>1915.0</td>\n",
       "      <td>Austria-Hungary</td>\n",
       "      <td>05:16:45</td>\n",
       "      <td>U.S.A.</td>\n",
       "      <td>61489</td>\n",
       "      <td>81.0</td>\n",
       "    </tr>\n",
       "    <tr>\n",
       "      <th>795</th>\n",
       "      <td>1996</td>\n",
       "      <td>Oral history interview with Ruth Crane</td>\n",
       "      <td>[Będzin, Olkusz]</td>\n",
       "      <td>female</td>\n",
       "      <td></td>\n",
       "      <td>[Blechhammer, Oderberg, Peterswaldau, Seibersd...</td>\n",
       "      <td>USC</td>\n",
       "      <td>Ruth Crane</td>\n",
       "      <td>https://vhaonline.usc.edu/VHAimages/icons/2143...</td>\n",
       "      <td>USC 21437</td>\n",
       "      <td>...</td>\n",
       "      <td>[https://youtu.be/LrGAFsU2EQ4, https://youtu.b...</td>\n",
       "      <td>21437</td>\n",
       "      <td>transcript_processed</td>\n",
       "      <td>795</td>\n",
       "      <td>1927.0</td>\n",
       "      <td>Poland</td>\n",
       "      <td>05:10:56</td>\n",
       "      <td>Australia</td>\n",
       "      <td>59329</td>\n",
       "      <td>69.0</td>\n",
       "    </tr>\n",
       "    <tr>\n",
       "      <th>872</th>\n",
       "      <td>1996</td>\n",
       "      <td>Oral history interview with Frieda Stieglitz</td>\n",
       "      <td>[Przemyśl]</td>\n",
       "      <td>female</td>\n",
       "      <td></td>\n",
       "      <td>[]</td>\n",
       "      <td>USC</td>\n",
       "      <td>Frieda Stieglitz</td>\n",
       "      <td>https://vhaonline.usc.edu/VHAimages/icons/2394...</td>\n",
       "      <td>USC 23942</td>\n",
       "      <td>...</td>\n",
       "      <td>[https://youtu.be/qXJZzrkXw-E, https://youtu.b...</td>\n",
       "      <td>23942</td>\n",
       "      <td>transcript_processed</td>\n",
       "      <td>872</td>\n",
       "      <td>1933.0</td>\n",
       "      <td>Poland</td>\n",
       "      <td>04:37:28</td>\n",
       "      <td>U.S.A.</td>\n",
       "      <td>59222</td>\n",
       "      <td>63.0</td>\n",
       "    </tr>\n",
       "    <tr>\n",
       "      <th>890</th>\n",
       "      <td>1997</td>\n",
       "      <td>Oral history interview with William Perl</td>\n",
       "      <td>[]</td>\n",
       "      <td>male</td>\n",
       "      <td></td>\n",
       "      <td>[]</td>\n",
       "      <td>USC</td>\n",
       "      <td>William Perl</td>\n",
       "      <td>https://vhaonline.usc.edu/VHAimages/icons/2440...</td>\n",
       "      <td>USC 24409</td>\n",
       "      <td>...</td>\n",
       "      <td>[https://youtu.be/Q3BXQ_KUZeo, https://youtu.b...</td>\n",
       "      <td>24409</td>\n",
       "      <td>transcript_processed</td>\n",
       "      <td>890</td>\n",
       "      <td>1906.0</td>\n",
       "      <td>Austria-Hungary</td>\n",
       "      <td>06:16:07</td>\n",
       "      <td>U.S.A.</td>\n",
       "      <td>57997</td>\n",
       "      <td>91.0</td>\n",
       "    </tr>\n",
       "    <tr>\n",
       "      <th>922</th>\n",
       "      <td>1997</td>\n",
       "      <td>Oral history interview with Michael Honey</td>\n",
       "      <td>[Theresienstadt]</td>\n",
       "      <td>male</td>\n",
       "      <td></td>\n",
       "      <td>[Auschwitz II-Birkenau, Gross-Rosen, Gunskirch...</td>\n",
       "      <td>USC</td>\n",
       "      <td>Michael Honey</td>\n",
       "      <td>https://vhaonline.usc.edu/VHAimages/icons/2565...</td>\n",
       "      <td>USC 25651</td>\n",
       "      <td>...</td>\n",
       "      <td>[https://youtu.be/E3TOYO-KU0s, https://youtu.b...</td>\n",
       "      <td>25651</td>\n",
       "      <td>transcript_processed</td>\n",
       "      <td>922</td>\n",
       "      <td>1929.0</td>\n",
       "      <td>Czechoslovakia</td>\n",
       "      <td>08:02:48</td>\n",
       "      <td>United Kingdom</td>\n",
       "      <td>72760</td>\n",
       "      <td>68.0</td>\n",
       "    </tr>\n",
       "    <tr>\n",
       "      <th>933</th>\n",
       "      <td>1997</td>\n",
       "      <td>Oral history interview with Michael Jackson</td>\n",
       "      <td>[]</td>\n",
       "      <td>male</td>\n",
       "      <td></td>\n",
       "      <td>[Dachau, Flossenbürg, Hersbruck]</td>\n",
       "      <td>USC</td>\n",
       "      <td>Michael Jackson</td>\n",
       "      <td>https://vhaonline.usc.edu/VHAimages/icons/2614...</td>\n",
       "      <td>USC 26142</td>\n",
       "      <td>...</td>\n",
       "      <td>[https://youtu.be/jcYTDPYV_Mc, https://youtu.b...</td>\n",
       "      <td>26142</td>\n",
       "      <td>transcript_processed</td>\n",
       "      <td>933</td>\n",
       "      <td>1920.0</td>\n",
       "      <td>Czechoslovakia</td>\n",
       "      <td>09:29:02</td>\n",
       "      <td>U.S.A.</td>\n",
       "      <td>69429</td>\n",
       "      <td>77.0</td>\n",
       "    </tr>\n",
       "    <tr>\n",
       "      <th>942</th>\n",
       "      <td>1997</td>\n",
       "      <td>Oral history interview with Wanda Mehr</td>\n",
       "      <td>[Lwów]</td>\n",
       "      <td>female</td>\n",
       "      <td></td>\n",
       "      <td>[]</td>\n",
       "      <td>USC</td>\n",
       "      <td>Wanda Mehr</td>\n",
       "      <td>https://vhaonline.usc.edu/VHAimages/icons/2660...</td>\n",
       "      <td>USC 26609</td>\n",
       "      <td>...</td>\n",
       "      <td>[https://youtu.be/QuEy1IlecPU, https://youtu.b...</td>\n",
       "      <td>26609</td>\n",
       "      <td>transcript_processed</td>\n",
       "      <td>942</td>\n",
       "      <td>NaN</td>\n",
       "      <td>Poland</td>\n",
       "      <td>11:12:22</td>\n",
       "      <td>Australia</td>\n",
       "      <td>112685</td>\n",
       "      <td>NaN</td>\n",
       "    </tr>\n",
       "    <tr>\n",
       "      <th>953</th>\n",
       "      <td>1996</td>\n",
       "      <td>Oral history interview with Yehudah Baḳon</td>\n",
       "      <td>[Theresienstadt]</td>\n",
       "      <td>male</td>\n",
       "      <td></td>\n",
       "      <td>[Auschwitz, Blechhammer, Gunskirchen, Mauthausen]</td>\n",
       "      <td>USC</td>\n",
       "      <td>Yehudah Baḳon</td>\n",
       "      <td>https://vhaonline.usc.edu/VHAimages/icons/2698...</td>\n",
       "      <td>USC 26983</td>\n",
       "      <td>...</td>\n",
       "      <td>[https://youtu.be/JkAqIIPOZ0s, https://youtu.b...</td>\n",
       "      <td>26983</td>\n",
       "      <td>transcript_processed</td>\n",
       "      <td>953</td>\n",
       "      <td>1929.0</td>\n",
       "      <td>Czechoslovakia</td>\n",
       "      <td>06:54:35</td>\n",
       "      <td>Israel</td>\n",
       "      <td>70289</td>\n",
       "      <td>67.0</td>\n",
       "    </tr>\n",
       "    <tr>\n",
       "      <th>967</th>\n",
       "      <td>1997</td>\n",
       "      <td>Oral history interview with Stefan Stok</td>\n",
       "      <td>[Warsaw]</td>\n",
       "      <td>male</td>\n",
       "      <td></td>\n",
       "      <td>[]</td>\n",
       "      <td>USC</td>\n",
       "      <td>Stefan Stok</td>\n",
       "      <td>https://vhaonline.usc.edu/VHAimages/icons/2750...</td>\n",
       "      <td>USC 27507</td>\n",
       "      <td>...</td>\n",
       "      <td>[https://youtu.be/mxjO-YAmnn4, https://youtu.b...</td>\n",
       "      <td>27507</td>\n",
       "      <td>transcript_processed</td>\n",
       "      <td>967</td>\n",
       "      <td>1933.0</td>\n",
       "      <td>Poland</td>\n",
       "      <td>05:58:37</td>\n",
       "      <td>United Kingdom</td>\n",
       "      <td>50705</td>\n",
       "      <td>64.0</td>\n",
       "    </tr>\n",
       "  </tbody>\n",
       "</table>\n",
       "<p>19 rows × 21 columns</p>\n",
       "</div>"
      ],
      "text/plain": [
       "     recording_year                                    testimony_title  \\\n",
       "31             1998         Oral history interview with Henry Rosmarin   \n",
       "79             1995    Oral history interview with Silvia Grohs-Martin   \n",
       "346            1995         Oral history interview with Dennis Urstein   \n",
       "389            1995  Oral history interview with Saartje Engel Wynberg   \n",
       "495            1996      Oral history interview with Itka Zygmuntowicz   \n",
       "596            1996       Oral history interview with Paul Oppenheimer   \n",
       "657            1996          Oral history interview with Henry Wermuth   \n",
       "687            1996         Oral history interview with Freddy Diament   \n",
       "723            1996            Oral history interview with Morris Rich   \n",
       "765            1996            Oral history interview with Eva Schloss   \n",
       "783            1996             Oral history interview with Leon Scher   \n",
       "795            1996             Oral history interview with Ruth Crane   \n",
       "872            1996       Oral history interview with Frieda Stieglitz   \n",
       "890            1997           Oral history interview with William Perl   \n",
       "922            1997          Oral history interview with Michael Honey   \n",
       "933            1997        Oral history interview with Michael Jackson   \n",
       "942            1997             Oral history interview with Wanda Mehr   \n",
       "953            1996          Oral history interview with Yehudah Baḳon   \n",
       "967            1997            Oral history interview with Stefan Stok   \n",
       "\n",
       "          ghetto_names  gender provenance  \\\n",
       "31   [Będzin, Czeladz]    male              \n",
       "79                  []  female              \n",
       "346                 []    male              \n",
       "389                 []  female              \n",
       "495      [Nowe Miasto]  female              \n",
       "596                 []    male              \n",
       "657          [Bochnia]    male              \n",
       "687                 []    male              \n",
       "723           [Kaunas]    male              \n",
       "765                 []  female              \n",
       "783          [Jaworów]    male              \n",
       "795   [Będzin, Olkusz]  female              \n",
       "872         [Przemyśl]  female              \n",
       "890                 []    male              \n",
       "922   [Theresienstadt]    male              \n",
       "933                 []    male              \n",
       "942             [Lwów]  female              \n",
       "953   [Theresienstadt]    male              \n",
       "967           [Warsaw]    male              \n",
       "\n",
       "                                            camp_names collection  \\\n",
       "31   [Buchenwald, Dyhernfurth, Fünfteichen, Gross-R...        USC   \n",
       "79      [Auschwitz II-Birkenau, Mechelen, Ravensbrück]        USC   \n",
       "346  [Auschwitz I, Auschwitz II-Birkenau, Buchenwal...        USC   \n",
       "389              [Herzogenbusch, Sobibór, Westerbork]        USC   \n",
       "495      [Auschwitz II-Birkenau, Malchow, Ravensbrück]        USC   \n",
       "596                        [Bergen-Belsen, Westerbork]        USC   \n",
       "657  [Auschwitz, Auschwitz III-Monowitz, Freiheit-O...        USC   \n",
       "687  [Auschwitz III-Monowitz, Gleiwitz II, Reichenb...        USC   \n",
       "723                                           [Dachau]        USC   \n",
       "765                [Auschwitz II-Birkenau, Westerbork]        USC   \n",
       "783                                         [Jaktorów]        USC   \n",
       "795  [Blechhammer, Oderberg, Peterswaldau, Seibersd...        USC   \n",
       "872                                                 []        USC   \n",
       "890                                                 []        USC   \n",
       "922  [Auschwitz II-Birkenau, Gross-Rosen, Gunskirch...        USC   \n",
       "933                  [Dachau, Flossenbürg, Hersbruck]        USC   \n",
       "942                                                 []        USC   \n",
       "953  [Auschwitz, Blechhammer, Gunskirchen, Mauthausen]        USC   \n",
       "967                                                 []        USC   \n",
       "\n",
       "          interviewee_name                                      thumbnail_url  \\\n",
       "31          Henry Rosmarin  https://vhaonline.usc.edu/VHAimages/icons/0026...   \n",
       "79     Silvia Grohs-Martin  https://vhaonline.usc.edu/VHAimages/icons/0093...   \n",
       "346         Dennis Urstein  https://vhaonline.usc.edu/VHAimages/icons/0671...   \n",
       "389  Saartje Engel Wynberg  https://vhaonline.usc.edu/VHAimages/icons/0768...   \n",
       "495      Itka Zygmuntowicz  https://vhaonline.usc.edu/VHAimages/icons/1058...   \n",
       "596       Paul Oppenheimer  https://vhaonline.usc.edu/VHAimages/icons/1346...   \n",
       "657          Henry Wermuth  https://vhaonline.usc.edu/VHAimages/icons/1569...   \n",
       "687         Freddy Diament  https://vhaonline.usc.edu/VHAimages/icons/1713...   \n",
       "723            Morris Rich  https://vhaonline.usc.edu/VHAimages/icons/1862...   \n",
       "765            Eva Schloss  https://vhaonline.usc.edu/VHAimages/icons/2008...   \n",
       "783             Leon Scher  https://vhaonline.usc.edu/VHAimages/icons/2100...   \n",
       "795             Ruth Crane  https://vhaonline.usc.edu/VHAimages/icons/2143...   \n",
       "872       Frieda Stieglitz  https://vhaonline.usc.edu/VHAimages/icons/2394...   \n",
       "890           William Perl  https://vhaonline.usc.edu/VHAimages/icons/2440...   \n",
       "922          Michael Honey  https://vhaonline.usc.edu/VHAimages/icons/2565...   \n",
       "933        Michael Jackson  https://vhaonline.usc.edu/VHAimages/icons/2614...   \n",
       "942             Wanda Mehr  https://vhaonline.usc.edu/VHAimages/icons/2660...   \n",
       "953          Yehudah Baḳon  https://vhaonline.usc.edu/VHAimages/icons/2698...   \n",
       "967            Stefan Stok  https://vhaonline.usc.edu/VHAimages/icons/2750...   \n",
       "\n",
       "     shelfmark  ...                                          media_url  \\\n",
       "31     USC 268  ...  [https://youtu.be/V0vkBkpmt8A, https://youtu.b...   \n",
       "79     USC 935  ...  [https://youtu.be/z7basawOtlo, https://youtu.b...   \n",
       "346   USC 6719  ...  [https://youtu.be/fHj9EUfTiew, https://youtu.b...   \n",
       "389   USC 7684  ...  [https://youtu.be/q_cm3FDwaKo, https://youtu.b...   \n",
       "495  USC 10588  ...  [https://youtu.be/dOClQ7ZZcQ0, https://youtu.b...   \n",
       "596  USC 13469  ...  [https://youtu.be/-rNJvYMCGpA, https://youtu.b...   \n",
       "657  USC 15694  ...  [https://youtu.be/DuMgqybYPfQ, https://youtu.b...   \n",
       "687  USC 17135  ...  [https://youtu.be/4bHB8OhACi8, https://youtu.b...   \n",
       "723  USC 18626  ...  [https://youtu.be/s4HtO2tV5Jo, https://youtu.b...   \n",
       "765  USC 20088  ...  [https://youtu.be/TmJzyhdRTtQ, https://youtu.b...   \n",
       "783  USC 21004  ...  [https://youtu.be/B6Q9kyTFioE, https://youtu.b...   \n",
       "795  USC 21437  ...  [https://youtu.be/LrGAFsU2EQ4, https://youtu.b...   \n",
       "872  USC 23942  ...  [https://youtu.be/qXJZzrkXw-E, https://youtu.b...   \n",
       "890  USC 24409  ...  [https://youtu.be/Q3BXQ_KUZeo, https://youtu.b...   \n",
       "922  USC 25651  ...  [https://youtu.be/E3TOYO-KU0s, https://youtu.b...   \n",
       "933  USC 26142  ...  [https://youtu.be/jcYTDPYV_Mc, https://youtu.b...   \n",
       "942  USC 26609  ...  [https://youtu.be/QuEy1IlecPU, https://youtu.b...   \n",
       "953  USC 26983  ...  [https://youtu.be/JkAqIIPOZ0s, https://youtu.b...   \n",
       "967  USC 27507  ...  [https://youtu.be/mxjO-YAmnn4, https://youtu.b...   \n",
       "\n",
       "    IntCode                status Unnamed: 0  interviewee_year_of_birth  \\\n",
       "31      268  transcript_processed         31                     1925.0   \n",
       "79      935  transcript_processed         79                     1918.0   \n",
       "346    6719  transcript_processed        346                     1924.0   \n",
       "389    7684  transcript_processed        389                     1922.0   \n",
       "495   10588  transcript_processed        495                     1926.0   \n",
       "596   13469  transcript_processed        596                     1928.0   \n",
       "657   15694  transcript_processed        657                     1923.0   \n",
       "687   17135  transcript_processed        687                     1924.0   \n",
       "723   18626  transcript_processed        723                     1924.0   \n",
       "765   20088  transcript_processed        765                     1929.0   \n",
       "783   21004  transcript_processed        783                     1915.0   \n",
       "795   21437  transcript_processed        795                     1927.0   \n",
       "872   23942  transcript_processed        872                     1933.0   \n",
       "890   24409  transcript_processed        890                     1906.0   \n",
       "922   25651  transcript_processed        922                     1929.0   \n",
       "933   26142  transcript_processed        933                     1920.0   \n",
       "942   26609  transcript_processed        942                        NaN   \n",
       "953   26983  transcript_processed        953                     1929.0   \n",
       "967   27507  transcript_processed        967                     1933.0   \n",
       "\n",
       "     birth_place_countries interview_length interview_location word_count  \\\n",
       "31                  Poland         06:18:07             U.S.A.      62577   \n",
       "79         Austria-Hungary         04:57:20             U.S.A.      54625   \n",
       "346                Austria         04:57:53             Canada      59919   \n",
       "389            Netherlands         05:15:45             U.S.A.      62653   \n",
       "495                 Poland         05:50:09             U.S.A.      61715   \n",
       "596                Germany         04:45:21     United Kingdom      54343   \n",
       "657                Germany         05:58:35     United Kingdom      56337   \n",
       "687                Germany         04:41:24             Poland      52161   \n",
       "723              Lithuania         05:50:54             U.S.A.      53499   \n",
       "765                Austria         05:11:59     United Kingdom      51536   \n",
       "783        Austria-Hungary         05:16:45             U.S.A.      61489   \n",
       "795                 Poland         05:10:56          Australia      59329   \n",
       "872                 Poland         04:37:28             U.S.A.      59222   \n",
       "890        Austria-Hungary         06:16:07             U.S.A.      57997   \n",
       "922         Czechoslovakia         08:02:48     United Kingdom      72760   \n",
       "933         Czechoslovakia         09:29:02             U.S.A.      69429   \n",
       "942                 Poland         11:12:22          Australia     112685   \n",
       "953         Czechoslovakia         06:54:35             Israel      70289   \n",
       "967                 Poland         05:58:37     United Kingdom      50705   \n",
       "\n",
       "     age_interview_year  \n",
       "31                 73.0  \n",
       "79                 77.0  \n",
       "346                71.0  \n",
       "389                73.0  \n",
       "495                70.0  \n",
       "596                68.0  \n",
       "657                73.0  \n",
       "687                72.0  \n",
       "723                72.0  \n",
       "765                67.0  \n",
       "783                81.0  \n",
       "795                69.0  \n",
       "872                63.0  \n",
       "890                91.0  \n",
       "922                68.0  \n",
       "933                77.0  \n",
       "942                 NaN  \n",
       "953                67.0  \n",
       "967                64.0  \n",
       "\n",
       "[19 rows x 21 columns]"
      ]
     },
     "execution_count": 143,
     "metadata": {},
     "output_type": "execute_result"
    }
   ],
   "source": [
    "df_testimonies[df_testimonies.word_count>50000]"
   ]
  },
  {
   "cell_type": "markdown",
   "metadata": {},
   "source": [
    "### Print the number of men and women interviewees"
   ]
  },
  {
   "cell_type": "markdown",
   "metadata": {},
   "source": [
    "First, women:"
   ]
  },
  {
   "cell_type": "code",
   "execution_count": 147,
   "metadata": {},
   "outputs": [],
   "source": [
    "women = len(df_testimonies[(df_testimonies.gender==\"female\") & (df_testimonies.testimony_title.str.contains('and')==False)])"
   ]
  },
  {
   "cell_type": "code",
   "execution_count": 148,
   "metadata": {},
   "outputs": [
    {
     "name": "stdout",
     "output_type": "stream",
     "text": [
      "444\n"
     ]
    }
   ],
   "source": [
    "print (women)"
   ]
  },
  {
   "cell_type": "markdown",
   "metadata": {},
   "source": [
    "Second, men:"
   ]
  },
  {
   "cell_type": "code",
   "execution_count": 149,
   "metadata": {},
   "outputs": [],
   "source": [
    "men = len(df_testimonies[(df_testimonies.gender==\"male\") & (df_testimonies.testimony_title.str.contains('and')==False)])"
   ]
  },
  {
   "cell_type": "code",
   "execution_count": 150,
   "metadata": {},
   "outputs": [
    {
     "name": "stdout",
     "output_type": "stream",
     "text": [
      "510\n"
     ]
    }
   ],
   "source": [
    "print (men)"
   ]
  },
  {
   "cell_type": "code",
   "execution_count": 151,
   "metadata": {},
   "outputs": [
    {
     "data": {
      "image/png": "[encoded data removed]",
      "text/plain": [
       "<Figure size 360x360 with 1 Axes>"
      ]
     },
     "metadata": {},
     "output_type": "display_data"
    }
   ],
   "source": [
    "gender_plot = pd.DataFrame({'count':[women,men]},index=['women','men'])\n",
    "plot = gender_plot.plot.pie(y='count',autopct='%.2f', figsize=(5, 5))\n",
    "plot.set_ylabel(\"Percentage\")\n",
    "plot.get_legend().remove()\n",
    "fig =plot.get_figure()\n",
    "fig.savefig('percentage_women_men_'+collection+'.png')"
   ]
  },
  {
   "cell_type": "code",
   "execution_count": 68,
   "metadata": {},
   "outputs": [],
   "source": [
    "def identify_country_of_birth(text):\n",
    "    import spacy\n",
    "    import pycountry\n",
    "    hist_countries = [\"Yugoslavia\",'Czechoslovakia','Russia']\n",
    "    countries = [element.name for element in list(pycountry.countries)]\n",
    "    countries.extend(hist_countries)\n",
    "    born_sentence=[]\n",
    "    nlp = spacy.load('en_core_web_sm') # Load the English Model\n",
    "    doc = nlp(text)\n",
    "    result = []\n",
    "    for i,sent in enumerate(doc.sents):\n",
    "        sentence_tokens = [token.text for token in sent]\n",
    "        if \"born\" in sentence_tokens:\n",
    "            labels = [token.text for token in sent]\n",
    "            doc = nlp(' '.join(labels))\n",
    "            if doc.ents:\n",
    "                for element in doc.ents:\n",
    "                    if (element.text in countries):\n",
    "                        result.append(element.text)\n",
    "            break\n",
    "        if i==3:\n",
    "            break\n",
    "    if len(result)==1:\n",
    "        return result[0]\n",
    "    elif len(result)>1:\n",
    "        return \"fuzzy\"\n",
    "    else:\n",
    "        return None"
   ]
  },
  {
   "cell_type": "code",
   "execution_count": 69,
   "metadata": {},
   "outputs": [],
   "source": [
    "#df_testimonies['country_of_birth'] = df_testimonies.interview_summary.progress_apply(identify_country_of_birth)"
   ]
  },
  {
   "cell_type": "markdown",
   "metadata": {},
   "source": [
    "### Visualize the distribution of year of births"
   ]
  },
  {
   "cell_type": "code",
   "execution_count": 70,
   "metadata": {},
   "outputs": [],
   "source": [
    "df_testimonies['interviewee_year_of_birth']= pd.to_numeric(df_testimonies.interviewee_year_of_birth,errors='coerce')"
   ]
  },
  {
   "cell_type": "code",
   "execution_count": 152,
   "metadata": {},
   "outputs": [
    {
     "data": {
      "image/png": "[encoded data removed]",
      "text/plain": [
       "<Figure size 432x288 with 1 Axes>"
      ]
     },
     "metadata": {
      "needs_background": "light"
     },
     "output_type": "display_data"
    }
   ],
   "source": [
    "plot = df_testimonies.interviewee_year_of_birth.plot.hist()\n",
    "plot.set_xlabel(\"Years\")\n",
    "fig =plot.get_figure()\n",
    "fig.savefig('year_of_birth_all_frequency_'+collection+'.png')\n",
    "\n"
   ]
  },
  {
   "cell_type": "code",
   "execution_count": 153,
   "metadata": {},
   "outputs": [
    {
     "data": {
      "image/png": "[encoded data removed]",
      "text/plain": [
       "<Figure size 432x288 with 1 Axes>"
      ]
     },
     "metadata": {
      "needs_background": "light"
     },
     "output_type": "display_data"
    }
   ],
   "source": [
    "plot = df_testimonies[df_testimonies.gender==\"female\"].interviewee_year_of_birth.plot.hist()\n",
    "plot.set_xlabel(\"Years\")\n",
    "fig =plot.get_figure()\n",
    "fig.savefig('year_of_birth_women_frequency_'+collection+'.png')"
   ]
  },
  {
   "cell_type": "code",
   "execution_count": 154,
   "metadata": {},
   "outputs": [
    {
     "data": {
      "image/png": "[encoded data removed]",
      "text/plain": [
       "<Figure size 432x288 with 1 Axes>"
      ]
     },
     "metadata": {
      "needs_background": "light"
     },
     "output_type": "display_data"
    }
   ],
   "source": [
    "plot=df_testimonies[df_testimonies.gender==\"male\"].interviewee_year_of_birth.plot.hist()\n",
    "plot.set_xlabel(\"Years\")\n",
    "fig =plot.get_figure()\n",
    "fig.savefig('year_of_birth_men_frequency_'+collection+'.png')"
   ]
  },
  {
   "cell_type": "code",
   "execution_count": 90,
   "metadata": {},
   "outputs": [],
   "source": [
    "women = df_testimonies[df_testimonies.gender==\"female\"][['interviewee_year_of_birth']]\n",
    "men = df_testimonies[df_testimonies.gender==\"male\"][['interviewee_year_of_birth']]\n",
    "#df = pd.DataFrame([women,men],index=['women','men'])"
   ]
  },
  {
   "cell_type": "code",
   "execution_count": 91,
   "metadata": {},
   "outputs": [
    {
     "name": "stderr",
     "output_type": "stream",
     "text": [
      "/miniconda3/lib/python3.7/site-packages/scipy/stats/stats.py:1713: FutureWarning: Using a non-tuple sequence for multidimensional indexing is deprecated; use `arr[tuple(seq)]` instead of `arr[seq]`. In the future this will be interpreted as an array index, `arr[np.array(seq)]`, which will result either in an error or a different result.\n",
      "  return np.add.reduce(sorted[indexer] * weights, axis=axis) / sumval\n",
      "/miniconda3/lib/python3.7/site-packages/scipy/stats/stats.py:1713: FutureWarning: Using a non-tuple sequence for multidimensional indexing is deprecated; use `arr[tuple(seq)]` instead of `arr[seq]`. In the future this will be interpreted as an array index, `arr[np.array(seq)]`, which will result either in an error or a different result.\n",
      "  return np.add.reduce(sorted[indexer] * weights, axis=axis) / sumval\n"
     ]
    },
    {
     "data": {
      "text/plain": [
       "<matplotlib.axes._subplots.AxesSubplot at 0x1a1b4345c0>"
      ]
     },
     "execution_count": 91,
     "metadata": {},
     "output_type": "execute_result"
    },
    {
     "data": {
      "image/png": "[encoded data removed]",
      "text/plain": [
       "<Figure size 842.4x595.44 with 1 Axes>"
      ]
     },
     "metadata": {
      "needs_background": "light"
     },
     "output_type": "display_data"
    }
   ],
   "source": [
    "import seaborn as sns\n",
    "import matplotlib.pyplot as plt\n",
    "a4_dims = (11.7, 8.27)\n",
    "fig, ax = plt.subplots(figsize=a4_dims)\n",
    "sns.distplot(men[['interviewee_year_of_birth']].dropna(), hist=True, rug=False,label=\"Men\")\n",
    "sns.distplot(women[['interviewee_year_of_birth']].dropna(), hist=True, rug=False,label = 'Female')"
   ]
  },
  {
   "cell_type": "code",
   "execution_count": 92,
   "metadata": {},
   "outputs": [
    {
     "data": {
      "text/plain": [
       "1891.0"
      ]
     },
     "execution_count": 92,
     "metadata": {},
     "output_type": "execute_result"
    }
   ],
   "source": [
    "df_testimonies.interviewee_year_of_birth.min()"
   ]
  },
  {
   "cell_type": "code",
   "execution_count": 93,
   "metadata": {},
   "outputs": [
    {
     "data": {
      "text/plain": [
       "1923.4979466119096"
      ]
     },
     "execution_count": 93,
     "metadata": {},
     "output_type": "execute_result"
    }
   ],
   "source": [
    "df_testimonies.interviewee_year_of_birth.mean()"
   ]
  },
  {
   "cell_type": "markdown",
   "metadata": {},
   "source": [
    "### Show average age for men"
   ]
  },
  {
   "cell_type": "code",
   "execution_count": 96,
   "metadata": {},
   "outputs": [
    {
     "data": {
      "text/html": [
       "<div>\n",
       "<style scoped>\n",
       "    .dataframe tbody tr th:only-of-type {\n",
       "        vertical-align: middle;\n",
       "    }\n",
       "\n",
       "    .dataframe tbody tr th {\n",
       "        vertical-align: top;\n",
       "    }\n",
       "\n",
       "    .dataframe thead th {\n",
       "        text-align: right;\n",
       "    }\n",
       "</style>\n",
       "<table border=\"1\" class=\"dataframe\">\n",
       "  <thead>\n",
       "    <tr style=\"text-align: right;\">\n",
       "      <th></th>\n",
       "      <th>interviewee_year_of_birth</th>\n",
       "    </tr>\n",
       "  </thead>\n",
       "  <tbody>\n",
       "    <tr>\n",
       "      <th>count</th>\n",
       "      <td>524.000000</td>\n",
       "    </tr>\n",
       "    <tr>\n",
       "      <th>mean</th>\n",
       "      <td>1922.622137</td>\n",
       "    </tr>\n",
       "    <tr>\n",
       "      <th>std</th>\n",
       "      <td>6.685103</td>\n",
       "    </tr>\n",
       "    <tr>\n",
       "      <th>min</th>\n",
       "      <td>1900.000000</td>\n",
       "    </tr>\n",
       "    <tr>\n",
       "      <th>25%</th>\n",
       "      <td>1918.750000</td>\n",
       "    </tr>\n",
       "    <tr>\n",
       "      <th>50%</th>\n",
       "      <td>1924.000000</td>\n",
       "    </tr>\n",
       "    <tr>\n",
       "      <th>75%</th>\n",
       "      <td>1927.000000</td>\n",
       "    </tr>\n",
       "    <tr>\n",
       "      <th>max</th>\n",
       "      <td>1939.000000</td>\n",
       "    </tr>\n",
       "  </tbody>\n",
       "</table>\n",
       "</div>"
      ],
      "text/plain": [
       "       interviewee_year_of_birth\n",
       "count                 524.000000\n",
       "mean                 1922.622137\n",
       "std                     6.685103\n",
       "min                  1900.000000\n",
       "25%                  1918.750000\n",
       "50%                  1924.000000\n",
       "75%                  1927.000000\n",
       "max                  1939.000000"
      ]
     },
     "execution_count": 96,
     "metadata": {},
     "output_type": "execute_result"
    }
   ],
   "source": [
    "men[['interviewee_year_of_birth']].describe()"
   ]
  },
  {
   "cell_type": "code",
   "execution_count": null,
   "metadata": {},
   "outputs": [],
   "source": [
    "### Show average age for women"
   ]
  },
  {
   "cell_type": "code",
   "execution_count": 98,
   "metadata": {},
   "outputs": [
    {
     "data": {
      "text/html": [
       "<div>\n",
       "<style scoped>\n",
       "    .dataframe tbody tr th:only-of-type {\n",
       "        vertical-align: middle;\n",
       "    }\n",
       "\n",
       "    .dataframe tbody tr th {\n",
       "        vertical-align: top;\n",
       "    }\n",
       "\n",
       "    .dataframe thead th {\n",
       "        text-align: right;\n",
       "    }\n",
       "</style>\n",
       "<table border=\"1\" class=\"dataframe\">\n",
       "  <thead>\n",
       "    <tr style=\"text-align: right;\">\n",
       "      <th></th>\n",
       "      <th>interviewee_year_of_birth</th>\n",
       "    </tr>\n",
       "  </thead>\n",
       "  <tbody>\n",
       "    <tr>\n",
       "      <th>count</th>\n",
       "      <td>450.000000</td>\n",
       "    </tr>\n",
       "    <tr>\n",
       "      <th>mean</th>\n",
       "      <td>1924.517778</td>\n",
       "    </tr>\n",
       "    <tr>\n",
       "      <th>std</th>\n",
       "      <td>6.423155</td>\n",
       "    </tr>\n",
       "    <tr>\n",
       "      <th>min</th>\n",
       "      <td>1891.000000</td>\n",
       "    </tr>\n",
       "    <tr>\n",
       "      <th>25%</th>\n",
       "      <td>1921.000000</td>\n",
       "    </tr>\n",
       "    <tr>\n",
       "      <th>50%</th>\n",
       "      <td>1925.000000</td>\n",
       "    </tr>\n",
       "    <tr>\n",
       "      <th>75%</th>\n",
       "      <td>1928.000000</td>\n",
       "    </tr>\n",
       "    <tr>\n",
       "      <th>max</th>\n",
       "      <td>1941.000000</td>\n",
       "    </tr>\n",
       "  </tbody>\n",
       "</table>\n",
       "</div>"
      ],
      "text/plain": [
       "       interviewee_year_of_birth\n",
       "count                 450.000000\n",
       "mean                 1924.517778\n",
       "std                     6.423155\n",
       "min                  1891.000000\n",
       "25%                  1921.000000\n",
       "50%                  1925.000000\n",
       "75%                  1928.000000\n",
       "max                  1941.000000"
      ]
     },
     "execution_count": 98,
     "metadata": {},
     "output_type": "execute_result"
    }
   ],
   "source": [
    "women[['interviewee_year_of_birth']].describe()"
   ]
  },
  {
   "cell_type": "markdown",
   "metadata": {},
   "source": [
    "### Study the age of interviewee when interview given"
   ]
  },
  {
   "cell_type": "code",
   "execution_count": 78,
   "metadata": {},
   "outputs": [],
   "source": [
    "df_testimonies['age_interview_year']=df_testimonies['recording_year']-df_testimonies['interviewee_year_of_birth']"
   ]
  },
  {
   "cell_type": "code",
   "execution_count": 79,
   "metadata": {},
   "outputs": [
    {
     "data": {
      "text/plain": [
       "<matplotlib.axes._subplots.AxesSubplot at 0x10c56d358>"
      ]
     },
     "execution_count": 79,
     "metadata": {},
     "output_type": "execute_result"
    },
    {
     "data": {
      "image/png": "[encoded data removed]",
      "text/plain": [
       "<Figure size 432x288 with 1 Axes>"
      ]
     },
     "metadata": {
      "needs_background": "light"
     },
     "output_type": "display_data"
    }
   ],
   "source": [
    "df_testimonies['age_interview_year'].plot.hist()"
   ]
  },
  {
   "cell_type": "code",
   "execution_count": 80,
   "metadata": {},
   "outputs": [
    {
     "data": {
      "text/plain": [
       "72.04620123203286"
      ]
     },
     "execution_count": 80,
     "metadata": {},
     "output_type": "execute_result"
    }
   ],
   "source": [
    "df_testimonies['age_interview_year'].mean()"
   ]
  },
  {
   "cell_type": "markdown",
   "metadata": {},
   "source": [
    "## Look at the distribution of countries of birth of interviewees"
   ]
  },
  {
   "cell_type": "code",
   "execution_count": 99,
   "metadata": {},
   "outputs": [
    {
     "data": {
      "text/plain": [
       "(27,)"
      ]
     },
     "execution_count": 99,
     "metadata": {},
     "output_type": "execute_result"
    }
   ],
   "source": [
    "df_testimonies.birth_place_countries.value_counts().shape"
   ]
  },
  {
   "cell_type": "code",
   "execution_count": 100,
   "metadata": {},
   "outputs": [
    {
     "data": {
      "text/plain": [
       "Poland                     405\n",
       "Germany                    130\n",
       "Czechoslovakia              75\n",
       "Russia/Soviet Russia        72\n",
       "Hungary                     59\n",
       "Austria-Hungary             52\n",
       "Romania                     33\n",
       "Austria                     28\n",
       "United Kingdom              22\n",
       "Netherlands                 19\n",
       "United States               16\n",
       "France                      10\n",
       "Lithuania                   10\n",
       "Greece                       8\n",
       "Latvia                       5\n",
       "Belgium                      5\n",
       "USSR                         4\n",
       "Yugoslavia                   3\n",
       "Denmark                      2\n",
       "Italy                        2\n",
       "Bulgaria                     2\n",
       "Portugal                     1\n",
       "Netherlands East Indies      1\n",
       "Palestine                    1\n",
       "Sweden                       1\n",
       "Danzig (FC)                  1\n",
       "Ottoman Empire               1\n",
       "Name: birth_place_countries, dtype: int64"
      ]
     },
     "execution_count": 100,
     "metadata": {},
     "output_type": "execute_result"
    }
   ],
   "source": [
    "df_testimonies.birth_place_countries.value_counts()"
   ]
  },
  {
   "cell_type": "markdown",
   "metadata": {},
   "source": [
    "Plot it"
   ]
  },
  {
   "cell_type": "code",
   "execution_count": 179,
   "metadata": {},
   "outputs": [
    {
     "data": {
      "image/png": "[encoded data removed]",
      "text/plain": [
       "<Figure size 360x360 with 1 Axes>"
      ]
     },
     "metadata": {},
     "output_type": "display_data"
    }
   ],
   "source": [
    "locations = df_testimonies.birth_place_countries.value_counts().to_frame()\n",
    "sum_other = locations[locations.birth_place_countries<40].birth_place_countries.sum()\n",
    "locations= locations[locations.birth_place_countries>40]\n",
    "locations.loc['other'] = sum_other\n",
    "plot = locations.birth_place_countries.to_frame().plot.pie(y='birth_place_countries',autopct='%.2f', figsize=(5, 5))\n",
    "plot.set_ylabel(\"Percentage\",labelpad=100)\n",
    "plot.get_legend().remove()\n",
    "fig =plot.get_figure()\n",
    "fig.savefig('percentage_coutry_of_birth_locations_'+collection+'.png')"
   ]
  },
  {
   "cell_type": "code",
   "execution_count": 164,
   "metadata": {},
   "outputs": [
    {
     "data": {
      "text/html": [
       "<div>\n",
       "<style scoped>\n",
       "    .dataframe tbody tr th:only-of-type {\n",
       "        vertical-align: middle;\n",
       "    }\n",
       "\n",
       "    .dataframe tbody tr th {\n",
       "        vertical-align: top;\n",
       "    }\n",
       "\n",
       "    .dataframe thead th {\n",
       "        text-align: right;\n",
       "    }\n",
       "</style>\n",
       "<table border=\"1\" class=\"dataframe\">\n",
       "  <thead>\n",
       "    <tr style=\"text-align: right;\">\n",
       "      <th></th>\n",
       "      <th>birth_place_countries</th>\n",
       "    </tr>\n",
       "  </thead>\n",
       "  <tbody>\n",
       "    <tr>\n",
       "      <th>Poland</th>\n",
       "      <td>405</td>\n",
       "    </tr>\n",
       "    <tr>\n",
       "      <th>Germany</th>\n",
       "      <td>130</td>\n",
       "    </tr>\n",
       "    <tr>\n",
       "      <th>Czechoslovakia</th>\n",
       "      <td>75</td>\n",
       "    </tr>\n",
       "    <tr>\n",
       "      <th>Russia/Soviet Russia</th>\n",
       "      <td>72</td>\n",
       "    </tr>\n",
       "    <tr>\n",
       "      <th>Hungary</th>\n",
       "      <td>59</td>\n",
       "    </tr>\n",
       "    <tr>\n",
       "      <th>Austria-Hungary</th>\n",
       "      <td>52</td>\n",
       "    </tr>\n",
       "    <tr>\n",
       "      <th>Romania</th>\n",
       "      <td>33</td>\n",
       "    </tr>\n",
       "    <tr>\n",
       "      <th>Austria</th>\n",
       "      <td>28</td>\n",
       "    </tr>\n",
       "    <tr>\n",
       "      <th>United Kingdom</th>\n",
       "      <td>22</td>\n",
       "    </tr>\n",
       "    <tr>\n",
       "      <th>Netherlands</th>\n",
       "      <td>19</td>\n",
       "    </tr>\n",
       "    <tr>\n",
       "      <th>United States</th>\n",
       "      <td>16</td>\n",
       "    </tr>\n",
       "    <tr>\n",
       "      <th>France</th>\n",
       "      <td>10</td>\n",
       "    </tr>\n",
       "    <tr>\n",
       "      <th>Lithuania</th>\n",
       "      <td>10</td>\n",
       "    </tr>\n",
       "    <tr>\n",
       "      <th>Greece</th>\n",
       "      <td>8</td>\n",
       "    </tr>\n",
       "    <tr>\n",
       "      <th>Latvia</th>\n",
       "      <td>5</td>\n",
       "    </tr>\n",
       "    <tr>\n",
       "      <th>Belgium</th>\n",
       "      <td>5</td>\n",
       "    </tr>\n",
       "    <tr>\n",
       "      <th>USSR</th>\n",
       "      <td>4</td>\n",
       "    </tr>\n",
       "    <tr>\n",
       "      <th>Yugoslavia</th>\n",
       "      <td>3</td>\n",
       "    </tr>\n",
       "    <tr>\n",
       "      <th>Denmark</th>\n",
       "      <td>2</td>\n",
       "    </tr>\n",
       "    <tr>\n",
       "      <th>Italy</th>\n",
       "      <td>2</td>\n",
       "    </tr>\n",
       "    <tr>\n",
       "      <th>Bulgaria</th>\n",
       "      <td>2</td>\n",
       "    </tr>\n",
       "    <tr>\n",
       "      <th>Portugal</th>\n",
       "      <td>1</td>\n",
       "    </tr>\n",
       "    <tr>\n",
       "      <th>Netherlands East Indies</th>\n",
       "      <td>1</td>\n",
       "    </tr>\n",
       "    <tr>\n",
       "      <th>Palestine</th>\n",
       "      <td>1</td>\n",
       "    </tr>\n",
       "    <tr>\n",
       "      <th>Sweden</th>\n",
       "      <td>1</td>\n",
       "    </tr>\n",
       "    <tr>\n",
       "      <th>Danzig (FC)</th>\n",
       "      <td>1</td>\n",
       "    </tr>\n",
       "    <tr>\n",
       "      <th>Ottoman Empire</th>\n",
       "      <td>1</td>\n",
       "    </tr>\n",
       "  </tbody>\n",
       "</table>\n",
       "</div>"
      ],
      "text/plain": [
       "                         birth_place_countries\n",
       "Poland                                     405\n",
       "Germany                                    130\n",
       "Czechoslovakia                              75\n",
       "Russia/Soviet Russia                        72\n",
       "Hungary                                     59\n",
       "Austria-Hungary                             52\n",
       "Romania                                     33\n",
       "Austria                                     28\n",
       "United Kingdom                              22\n",
       "Netherlands                                 19\n",
       "United States                               16\n",
       "France                                      10\n",
       "Lithuania                                   10\n",
       "Greece                                       8\n",
       "Latvia                                       5\n",
       "Belgium                                      5\n",
       "USSR                                         4\n",
       "Yugoslavia                                   3\n",
       "Denmark                                      2\n",
       "Italy                                        2\n",
       "Bulgaria                                     2\n",
       "Portugal                                     1\n",
       "Netherlands East Indies                      1\n",
       "Palestine                                    1\n",
       "Sweden                                       1\n",
       "Danzig (FC)                                  1\n",
       "Ottoman Empire                               1"
      ]
     },
     "execution_count": 164,
     "metadata": {},
     "output_type": "execute_result"
    }
   ],
   "source": [
    "locations"
   ]
  },
  {
   "cell_type": "markdown",
   "metadata": {},
   "source": [
    "## Render the Interview Locations"
   ]
  },
  {
   "cell_type": "code",
   "execution_count": 103,
   "metadata": {},
   "outputs": [
    {
     "data": {
      "text/plain": [
       "U.S.A.            732\n",
       "Canada             94\n",
       "Australia          83\n",
       "United Kingdom     44\n",
       "South Africa       13\n",
       "Israel              5\n",
       "Poland              2\n",
       "Sweden              1\n",
       "Mexico              1\n",
       "Zimbabwe            1\n",
       "Name: interview_location, dtype: int64"
      ]
     },
     "execution_count": 103,
     "metadata": {},
     "output_type": "execute_result"
    }
   ],
   "source": [
    "df_testimonies.interview_location.value_counts()"
   ]
  },
  {
   "cell_type": "code",
   "execution_count": 127,
   "metadata": {},
   "outputs": [],
   "source": [
    "locations = df_testimonies.interview_location.value_counts().to_frame()"
   ]
  },
  {
   "cell_type": "code",
   "execution_count": 128,
   "metadata": {},
   "outputs": [],
   "source": [
    "sum_other = locations[locations.interview_location<40].interview_location.sum()"
   ]
  },
  {
   "cell_type": "code",
   "execution_count": 129,
   "metadata": {},
   "outputs": [],
   "source": [
    "locations= locations[locations.interview_location>40]\n",
    "locations.loc['other'] = sum_other"
   ]
  },
  {
   "cell_type": "code",
   "execution_count": 130,
   "metadata": {},
   "outputs": [
    {
     "data": {
      "text/plain": [
       "23"
      ]
     },
     "execution_count": 130,
     "metadata": {},
     "output_type": "execute_result"
    }
   ],
   "source": [
    "locations[locations.interview_location<40].interview_location.sum()"
   ]
  },
  {
   "cell_type": "code",
   "execution_count": 157,
   "metadata": {},
   "outputs": [
    {
     "data": {
      "image/png": "[encoded data removed]",
      "text/plain": [
       "<Figure size 360x360 with 1 Axes>"
      ]
     },
     "metadata": {},
     "output_type": "display_data"
    }
   ],
   "source": [
    "plot = locations.interview_location.to_frame().plot.pie(y='interview_location',autopct='%.2f', figsize=(5, 5))\n",
    "plot.set_ylabel(\"Percentage\")\n",
    "fig =plot.get_figure()\n",
    "fig.savefig('percentage_interview_locations_'+collection+'.png')"
   ]
  },
  {
   "cell_type": "code",
   "execution_count": null,
   "metadata": {},
   "outputs": [],
   "source": []
  },
  {
   "cell_type": "code",
   "execution_count": null,
   "metadata": {},
   "outputs": [],
   "source": [
    "gender_plot = pd.DataFrame({'count':[women,men]},index=['women','men'])\n",
    "plot = gender_plot.plot.pie(y='count',autopct='%.2f', figsize=(5, 5))"
   ]
  },
  {
   "cell_type": "code",
   "execution_count": null,
   "metadata": {},
   "outputs": [],
   "source": []
  },
  {
   "cell_type": "code",
   "execution_count": null,
   "metadata": {},
   "outputs": [],
   "source": []
  },
  {
   "cell_type": "code",
   "execution_count": null,
   "metadata": {},
   "outputs": [],
   "source": []
  },
  {
   "cell_type": "code",
   "execution_count": null,
   "metadata": {},
   "outputs": [],
   "source": []
  }
 ],
 "metadata": {
  "kernelspec": {
   "display_name": "Python 3",
   "language": "python",
   "name": "python3"
  },
  "language_info": {
   "codemirror_mode": {
    "name": "ipython",
    "version": 3
   },
   "file_extension": ".py",
   "mimetype": "text/x-python",
   "name": "python",
   "nbconvert_exporter": "python",
   "pygments_lexer": "ipython3",
   "version": "3.7.2"
  }
 },
 "nbformat": 4,
 "nbformat_minor": 2
}
