{
 "cells": [
  {
   "cell_type": "markdown",
   "metadata": {},
   "source": [
    "## LTS USMM Data Analysis"
   ]
  },
  {
   "cell_type": "markdown",
   "metadata": {},
   "source": [
    "The goal of this notebook is to analyze the data provided by the United States Holocaust Memorial Museum to the project *Let them Speak* and to offer quantitative insights into the data."
   ]
  },
  {
   "cell_type": "markdown",
   "metadata": {},
   "source": [
    "### Import the libraries needed"
   ]
  },
  {
   "cell_type": "code",
   "execution_count": 1,
   "metadata": {},
   "outputs": [
    {
     "name": "stderr",
     "output_type": "stream",
     "text": [
      "/miniconda3/lib/python3.7/site-packages/tqdm/std.py:668: FutureWarning: The Panel class is removed from pandas. Accessing it from the top-level namespace will also be removed in the next version\n",
      "  from pandas import Panel\n"
     ]
    }
   ],
   "source": [
    "import sys; sys.path.insert(0, '..')\n",
    "import pandas as pd\n",
    "import os\n",
    "from tqdm.notebook import tqdm\n",
    "import constants\n",
    "import spacy\n",
    "import pycountry\n",
    "tqdm.pandas()\n",
    "path = os.getcwd()\n",
    "parent = os.path.abspath(os.path.join(path, os.pardir))\n",
    "nlp = spacy.load('en_core_web_sm') # Load the English Model\n"
   ]
  },
  {
   "cell_type": "code",
   "execution_count": 2,
   "metadata": {},
   "outputs": [],
   "source": [
    "from Utilities import mongo_helper\n",
    "from Utilities import blacklab"
   ]
  },
  {
   "cell_type": "markdown",
   "metadata": {},
   "source": [
    "### Load the necessary data into a panda dataframe"
   ]
  },
  {
   "cell_type": "markdown",
   "metadata": {},
   "source": [
    "Get the testimonies metadata from the LTS database"
   ]
  },
  {
   "cell_type": "code",
   "execution_count": 3,
   "metadata": {},
   "outputs": [],
   "source": [
    "collection = \"USHMM\"\n",
    "db = \"lts\"\n",
    "testimonies = mongo_helper.query(db,\"testimonies\",{'collection':collection},{'structured_transcript':0,'html_transcript':0,'_id':0})"
   ]
  },
  {
   "cell_type": "code",
   "execution_count": 4,
   "metadata": {},
   "outputs": [],
   "source": [
    "df_testimonies = pd.DataFrame(testimonies)\n",
    "df_testimonies =df_testimonies[df_testimonies['status']==\"transcript_processed\"]"
   ]
  },
  {
   "cell_type": "code",
   "execution_count": 5,
   "metadata": {},
   "outputs": [],
   "source": [
    "if collection == \"Fortunoff\":\n",
    "    additional_metadata=pd.read_csv(parent+'/Data/Output/'+'fortunoff_metadata.csv')\n",
    "    df_testimonies = df_testimonies.merge(additional_metadata)\n",
    "elif collection ==\"USC\":\n",
    "    additional_metadata=pd.read_csv(parent+'/Data/Output/'+'usc_metadata.csv')\n",
    "    df_testimonies = df_testimonies.merge(additional_metadata)"
   ]
  },
  {
   "cell_type": "code",
   "execution_count": 6,
   "metadata": {},
   "outputs": [],
   "source": [
    "def normalize_interview_codes(int_code):\n",
    "    import re\n",
    "    int_code = int_code.split('-')[1]\n",
    "    x = re.split(\"^0*\",int_code)\n",
    "    if len(x)>1:\n",
    "        return 'HVT-'+x[1]\n",
    "    else:\n",
    "        'HVT-'+x[0]"
   ]
  },
  {
   "cell_type": "markdown",
   "metadata": {},
   "source": [
    "Add additional metadata to various collections"
   ]
  },
  {
   "cell_type": "code",
   "execution_count": 7,
   "metadata": {},
   "outputs": [],
   "source": [
    "import json\n",
    "if collection == \"Fortunoff\":\n",
    "    metadata=open(parent+'/Data/Input/Fortunoff_Metadata/index.8.min.json')\n",
    "    text = metadata.read()\n",
    "    additional_metadata = json.loads(text)\n",
    "    df_metadata = pd.DataFrame(additional_metadata)\n",
    "    df_metadata = df_metadata[['id','birth_place_countries',]]\n",
    "    df_metadata = df_metadata.rename(columns={\"id\": \"testimony_id\"})\n",
    "    df_metadata['testimony_id'] = df_metadata.testimony_id.apply(normalize_interview_codes)\n",
    "    df_testimonies = df_testimonies.merge(df_metadata,on='testimony_id')"
   ]
  },
  {
   "cell_type": "markdown",
   "metadata": {},
   "source": [
    "Load the wordcounts"
   ]
  },
  {
   "cell_type": "code",
   "execution_count": 8,
   "metadata": {},
   "outputs": [],
   "source": [
    "word_counts =pd.read_csv(parent+'/Data/Output/'+'word_counts.csv')\n",
    "df_testimonies = df_testimonies.merge(word_counts[['testimony_id','word_count']])"
   ]
  },
  {
   "cell_type": "markdown",
   "metadata": {},
   "source": [
    "### Print the number of testimonies that are processed and in the dataset"
   ]
  },
  {
   "cell_type": "code",
   "execution_count": 9,
   "metadata": {},
   "outputs": [
    {
     "name": "stdout",
     "output_type": "stream",
     "text": [
      "1514\n"
     ]
    }
   ],
   "source": [
    "print (len(df_testimonies[df_testimonies['status']==\"transcript_processed\"]))"
   ]
  },
  {
   "cell_type": "markdown",
   "metadata": {},
   "source": [
    "### Make a historiogram about the distribution of interview years"
   ]
  },
  {
   "cell_type": "code",
   "execution_count": 10,
   "metadata": {},
   "outputs": [
    {
     "data": {
      "text/plain": [
       "<matplotlib.axes._subplots.AxesSubplot at 0x1a32d05ef0>"
      ]
     },
     "execution_count": 10,
     "metadata": {},
     "output_type": "execute_result"
    }
   ],
   "source": [
    "df_testimonies.recording_year.plot.hist()"
   ]
  },
  {
   "cell_type": "markdown",
   "metadata": {},
   "source": [
    "### Print the earliest and latest interviews"
   ]
  },
  {
   "cell_type": "code",
   "execution_count": 11,
   "metadata": {},
   "outputs": [
    {
     "data": {
      "text/plain": [
       "2016.0"
      ]
     },
     "execution_count": 11,
     "metadata": {},
     "output_type": "execute_result"
    }
   ],
   "source": [
    "df_testimonies.recording_year.max()"
   ]
  },
  {
   "cell_type": "code",
   "execution_count": 12,
   "metadata": {},
   "outputs": [
    {
     "data": {
      "text/plain": [
       "1970.0"
      ]
     },
     "execution_count": 12,
     "metadata": {},
     "output_type": "execute_result"
    }
   ],
   "source": [
    "df_testimonies.recording_year.min()"
   ]
  },
  {
   "cell_type": "markdown",
   "metadata": {},
   "source": [
    "### Print the median token number"
   ]
  },
  {
   "cell_type": "code",
   "execution_count": 13,
   "metadata": {},
   "outputs": [
    {
     "data": {
      "text/plain": [
       "1.0"
      ]
     },
     "execution_count": 13,
     "metadata": {},
     "output_type": "execute_result"
    }
   ],
   "source": [
    "df_testimonies['word_count'].median()"
   ]
  },
  {
   "cell_type": "markdown",
   "metadata": {},
   "source": [
    "### Print the shortest interviews"
   ]
  },
  {
   "cell_type": "code",
   "execution_count": 14,
   "metadata": {},
   "outputs": [
    {
     "data": {
      "text/html": [
       "<div>\n",
       "<style scoped>\n",
       "    .dataframe tbody tr th:only-of-type {\n",
       "        vertical-align: middle;\n",
       "    }\n",
       "\n",
       "    .dataframe tbody tr th {\n",
       "        vertical-align: top;\n",
       "    }\n",
       "\n",
       "    .dataframe thead th {\n",
       "        text-align: right;\n",
       "    }\n",
       "</style>\n",
       "<table border=\"1\" class=\"dataframe\">\n",
       "  <thead>\n",
       "    <tr style=\"text-align: right;\">\n",
       "      <th></th>\n",
       "      <th>testimony_title</th>\n",
       "      <th>word_count</th>\n",
       "    </tr>\n",
       "  </thead>\n",
       "  <tbody>\n",
       "    <tr>\n",
       "      <th>0</th>\n",
       "      <td>Oral history interview with Frank Nathanson</td>\n",
       "      <td>1</td>\n",
       "    </tr>\n",
       "    <tr>\n",
       "      <th>1013</th>\n",
       "      <td>Oral history interview with Florence Gitelman ...</td>\n",
       "      <td>1</td>\n",
       "    </tr>\n",
       "    <tr>\n",
       "      <th>1012</th>\n",
       "      <td>Oral history interview with Elsa Turteltaub</td>\n",
       "      <td>1</td>\n",
       "    </tr>\n",
       "    <tr>\n",
       "      <th>1011</th>\n",
       "      <td>Oral history interview with David Eiger</td>\n",
       "      <td>1</td>\n",
       "    </tr>\n",
       "    <tr>\n",
       "      <th>1010</th>\n",
       "      <td>Oral history interview with Jay Ipson</td>\n",
       "      <td>1</td>\n",
       "    </tr>\n",
       "  </tbody>\n",
       "</table>\n",
       "</div>"
      ],
      "text/plain": [
       "                                        testimony_title  word_count\n",
       "0           Oral history interview with Frank Nathanson           1\n",
       "1013  Oral history interview with Florence Gitelman ...           1\n",
       "1012        Oral history interview with Elsa Turteltaub           1\n",
       "1011            Oral history interview with David Eiger           1\n",
       "1010              Oral history interview with Jay Ipson           1"
      ]
     },
     "execution_count": 14,
     "metadata": {},
     "output_type": "execute_result"
    }
   ],
   "source": [
    "df_testimonies.sort_values('word_count')[0:5][['testimony_title','word_count']]"
   ]
  },
  {
   "cell_type": "markdown",
   "metadata": {},
   "source": [
    "### Print the longest interviews"
   ]
  },
  {
   "cell_type": "code",
   "execution_count": 15,
   "metadata": {},
   "outputs": [
    {
     "data": {
      "text/html": [
       "<div>\n",
       "<style scoped>\n",
       "    .dataframe tbody tr th:only-of-type {\n",
       "        vertical-align: middle;\n",
       "    }\n",
       "\n",
       "    .dataframe tbody tr th {\n",
       "        vertical-align: top;\n",
       "    }\n",
       "\n",
       "    .dataframe thead th {\n",
       "        text-align: right;\n",
       "    }\n",
       "</style>\n",
       "<table border=\"1\" class=\"dataframe\">\n",
       "  <thead>\n",
       "    <tr style=\"text-align: right;\">\n",
       "      <th></th>\n",
       "      <th>testimony_title</th>\n",
       "      <th>word_count</th>\n",
       "    </tr>\n",
       "  </thead>\n",
       "  <tbody>\n",
       "    <tr>\n",
       "      <th>0</th>\n",
       "      <td>Oral history interview with Frank Nathanson</td>\n",
       "      <td>1</td>\n",
       "    </tr>\n",
       "    <tr>\n",
       "      <th>1005</th>\n",
       "      <td>Oral history interview with Yehuda Mandell</td>\n",
       "      <td>1</td>\n",
       "    </tr>\n",
       "    <tr>\n",
       "      <th>1014</th>\n",
       "      <td>Oral history interview with Sibylle Niemӧller</td>\n",
       "      <td>1</td>\n",
       "    </tr>\n",
       "    <tr>\n",
       "      <th>1013</th>\n",
       "      <td>Oral history interview with Florence Gitelman ...</td>\n",
       "      <td>1</td>\n",
       "    </tr>\n",
       "    <tr>\n",
       "      <th>1012</th>\n",
       "      <td>Oral history interview with Elsa Turteltaub</td>\n",
       "      <td>1</td>\n",
       "    </tr>\n",
       "  </tbody>\n",
       "</table>\n",
       "</div>"
      ],
      "text/plain": [
       "                                        testimony_title  word_count\n",
       "0           Oral history interview with Frank Nathanson           1\n",
       "1005         Oral history interview with Yehuda Mandell           1\n",
       "1014      Oral history interview with Sibylle Niemӧller           1\n",
       "1013  Oral history interview with Florence Gitelman ...           1\n",
       "1012        Oral history interview with Elsa Turteltaub           1"
      ]
     },
     "execution_count": 15,
     "metadata": {},
     "output_type": "execute_result"
    }
   ],
   "source": [
    "df_testimonies.sort_values('word_count',ascending=False)[0:5][['testimony_title','word_count']]"
   ]
  },
  {
   "cell_type": "markdown",
   "metadata": {},
   "source": [
    "### Print a histogram"
   ]
  },
  {
   "cell_type": "code",
   "execution_count": 16,
   "metadata": {},
   "outputs": [
    {
     "data": {
      "text/plain": [
       "<matplotlib.axes._subplots.AxesSubplot at 0x1a32eb1b38>"
      ]
     },
     "execution_count": 16,
     "metadata": {},
     "output_type": "execute_result"
    },
    {
     "data": {
      "image/png": "[encoded data removed]",
      "text/plain": [
       "<Figure size 432x288 with 1 Axes>"
      ]
     },
     "metadata": {
      "needs_background": "light"
     },
     "output_type": "display_data"
    }
   ],
   "source": [
    "df_testimonies.word_count.plot.hist()"
   ]
  },
  {
   "cell_type": "markdown",
   "metadata": {},
   "source": [
    "### Print the number of men and women interviewees"
   ]
  },
  {
   "cell_type": "markdown",
   "metadata": {},
   "source": [
    "First, women:"
   ]
  },
  {
   "cell_type": "code",
   "execution_count": 17,
   "metadata": {},
   "outputs": [],
   "source": [
    "women = len(df_testimonies[(df_testimonies.gender==\"female\") & (df_testimonies.testimony_title.str.contains('and')==False)])"
   ]
  },
  {
   "cell_type": "code",
   "execution_count": 18,
   "metadata": {},
   "outputs": [
    {
     "name": "stdout",
     "output_type": "stream",
     "text": [
      "569\n"
     ]
    }
   ],
   "source": [
    "print (women)"
   ]
  },
  {
   "cell_type": "markdown",
   "metadata": {},
   "source": [
    "Second, men:"
   ]
  },
  {
   "cell_type": "code",
   "execution_count": 19,
   "metadata": {},
   "outputs": [],
   "source": [
    "men = len(df_testimonies[(df_testimonies.gender==\"male\") & (df_testimonies.testimony_title.str.contains('and')==False)])"
   ]
  },
  {
   "cell_type": "code",
   "execution_count": 20,
   "metadata": {},
   "outputs": [
    {
     "name": "stdout",
     "output_type": "stream",
     "text": [
      "854\n"
     ]
    }
   ],
   "source": [
    "print (men)"
   ]
  },
  {
   "cell_type": "code",
   "execution_count": 21,
   "metadata": {},
   "outputs": [
    {
     "data": {
      "image/png": "[encoded data removed]",
      "text/plain": [
       "<Figure size 360x360 with 1 Axes>"
      ]
     },
     "metadata": {},
     "output_type": "display_data"
    }
   ],
   "source": [
    "gender_plot = pd.DataFrame({'count':[women,men]},index=['women','men'])\n",
    "plot = gender_plot.plot.pie(y='count', figsize=(5, 5))"
   ]
  },
  {
   "cell_type": "code",
   "execution_count": 22,
   "metadata": {},
   "outputs": [],
   "source": [
    "def identify_country_of_birth(text):\n",
    "    hist_countries = [\"Yugoslavia\",'Czechoslovakia','Russia']\n",
    "    countries = [element.name for element in list(pycountry.countries)]\n",
    "    countries.extend(hist_countries)\n",
    "    born_sentence=[]\n",
    "    doc = nlp(text)\n",
    "    result = []\n",
    "    for i,sent in enumerate(doc.sents):\n",
    "        sentence_tokens = [token.text for token in sent]\n",
    "        if \"born\" in sentence_tokens:\n",
    "            labels = [token.text for token in sent]\n",
    "            doc = nlp(' '.join(labels))\n",
    "            if doc.ents:\n",
    "                for element in doc.ents:\n",
    "                    if (element.text in countries):\n",
    "                        result.append(element.text)\n",
    "            break\n",
    "        if i==3:\n",
    "            break\n",
    "    if len(result)==1:\n",
    "        return result[0]\n",
    "    elif len(result)>1:\n",
    "        return \"fuzzy\"\n",
    "    else:\n",
    "        return None"
   ]
  },
  {
   "cell_type": "code",
   "execution_count": 23,
   "metadata": {},
   "outputs": [],
   "source": [
    "#df_testimonies['country_of_birth'] = df_testimonies.interview_summary.progress_apply(identify_country_of_birth)"
   ]
  },
  {
   "cell_type": "markdown",
   "metadata": {},
   "source": [
    "### Visualize the distribution of year of births"
   ]
  },
  {
   "cell_type": "code",
   "execution_count": 24,
   "metadata": {},
   "outputs": [],
   "source": [
    "if (collection ==\"USC\" or collection ==\"Fortunoff\"):\n",
    "    df_testimonies['interviewee_year_of_birth']= pd.to_numeric(df_testimonies.interviewee_year_of_birth,errors='coerce')\n",
    "    df_testimonies.interviewee_year_of_birth.plot.hist()"
   ]
  },
  {
   "cell_type": "code",
   "execution_count": 25,
   "metadata": {},
   "outputs": [],
   "source": [
    "if (collection ==\"USC\" or collection ==\"Fortunoff\"):\n",
    "    df_testimonies[df_testimonies.gender==\"female\"].interviewee_year_of_birth.plot.hist()\n",
    "    df_testimonies[df_testimonies.gender==\"male\"].interviewee_year_of_birth.plot.hist()"
   ]
  },
  {
   "cell_type": "code",
   "execution_count": 26,
   "metadata": {},
   "outputs": [],
   "source": [
    "if (collection ==\"USC\" or collection ==\"Fortunoff\"):\n",
    "    women = df_testimonies[df_testimonies.gender==\"female\"][['interviewee_year_of_birth']]\n",
    "    men = df_testimonies[df_testimonies.gender==\"male\"][['interviewee_year_of_birth']]\n",
    "    #df = pd.DataFrame([women,men],index=['women','men'])\n",
    "    import seaborn as sns\n",
    "    import matplotlib.pyplot as plt\n",
    "    a4_dims = (11.7, 8.27)\n",
    "    fig, ax = plt.subplots(figsize=a4_dims)\n",
    "    sns.distplot(men[['interviewee_year_of_birth']].dropna(), hist=True, rug=False,label=\"Men\")\n",
    "    sns.distplot(women[['interviewee_year_of_birth']].dropna(), hist=True, rug=False,label = 'Female')"
   ]
  },
  {
   "cell_type": "code",
   "execution_count": 27,
   "metadata": {},
   "outputs": [],
   "source": [
    "if (collection ==\"USC\" or collection ==\"Fortunoff\"):\n",
    "    df_testimonies.interviewee_year_of_birth.min()\n",
    "    df_testimonies.interviewee_year_of_birth.mean()"
   ]
  },
  {
   "cell_type": "markdown",
   "metadata": {},
   "source": [
    "### Study the age of interviewee when interview given"
   ]
  },
  {
   "cell_type": "code",
   "execution_count": 28,
   "metadata": {},
   "outputs": [],
   "source": [
    "if (collection ==\"USC\" or collection ==\"Fortunoff\"):\n",
    "    df_testimonies['age_interview_year']=df_testimonies['recording_year']-df_testimonies['interviewee_year_of_birth']\n",
    "    df_testimonies['age_interview_year'].plot.hist()\n",
    "    df_testimonies['age_interview_year'].mean()"
   ]
  },
  {
   "cell_type": "markdown",
   "metadata": {},
   "source": [
    "## Look at the distribution of countries of birth of interviewees"
   ]
  },
  {
   "cell_type": "code",
   "execution_count": 29,
   "metadata": {},
   "outputs": [],
   "source": [
    "#df_testimonies.birth_place_countries.value_counts()"
   ]
  },
  {
   "cell_type": "markdown",
   "metadata": {},
   "source": [
    "## Render the Interview Locations"
   ]
  },
  {
   "cell_type": "code",
   "execution_count": 30,
   "metadata": {},
   "outputs": [],
   "source": [
    "if (collection ==\"USC\" or collection ==\"Fortunoff\"):\n",
    "    df_testimonies.interview_location.value_counts()"
   ]
  }
 ],
 "metadata": {
  "kernelspec": {
   "display_name": "Python 3",
   "language": "python",
   "name": "python3"
  },
  "language_info": {
   "codemirror_mode": {
    "name": "ipython",
    "version": 3
   },
   "file_extension": ".py",
   "mimetype": "text/x-python",
   "name": "python",
   "nbconvert_exporter": "python",
   "pygments_lexer": "ipython3",
   "version": "3.7.2"
  }
 },
 "nbformat": 4,
 "nbformat_minor": 2
}
