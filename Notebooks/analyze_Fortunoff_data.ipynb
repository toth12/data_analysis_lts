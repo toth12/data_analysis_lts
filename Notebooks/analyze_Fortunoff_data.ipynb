{
 "cells": [
  {
   "cell_type": "markdown",
   "metadata": {},
   "source": [
    "## LTS Fortunoff Data Analysis"
   ]
  },
  {
   "cell_type": "markdown",
   "metadata": {},
   "source": [
    "The goal of this notebook is to analyze the data provided by the Fortunoff Archive to the project *Let them Speak* and to offer quantitative insights into the data."
   ]
  },
  {
   "cell_type": "markdown",
   "metadata": {},
   "source": [
    "### Import the libraries needed"
   ]
  },
  {
   "cell_type": "code",
   "execution_count": 7,
   "metadata": {},
   "outputs": [],
   "source": [
    "import sys; sys.path.insert(0, '..')\n",
    "import pandas as pd\n",
    "from tqdm.notebook import tqdm\n",
    "import constants\n",
    "tqdm.pandas()\n",
    "path = os.getcwd()\n",
    "parent = os.path.abspath(os.path.join(path, os.pardir))\n"
   ]
  },
  {
   "cell_type": "code",
   "execution_count": 2,
   "metadata": {},
   "outputs": [],
   "source": [
    "from Utilities import mongo_helper\n",
    "from Utilities import blacklab"
   ]
  },
  {
   "cell_type": "markdown",
   "metadata": {},
   "source": [
    "### Load the necessary data into a panda dataframe"
   ]
  },
  {
   "cell_type": "markdown",
   "metadata": {},
   "source": [
    "Get the testimonies metadata from the LTS database"
   ]
  },
  {
   "cell_type": "code",
   "execution_count": 3,
   "metadata": {},
   "outputs": [],
   "source": [
    "collection = \"Fortunoff\"\n",
    "db = \"lts\"\n",
    "testimonies = mongo_helper.query(db,\"testimonies\",{'collection':collection},{'structured_transcript':0,'html_transcript':0,'_id':0})"
   ]
  },
  {
   "cell_type": "code",
   "execution_count": 25,
   "metadata": {},
   "outputs": [],
   "source": [
    "df_testimonies = pd.DataFrame(testimonies)\n",
    "df_testimonies =df_testimonies[df_testimonies['status']==\"transcript_processed\"]"
   ]
  },
  {
   "cell_type": "code",
   "execution_count": 176,
   "metadata": {},
   "outputs": [],
   "source": [
    "if collection == \"Fortunoff\":\n",
    "    additional_metadata=pd.read_csv(parent+'/Data/Output/'+'fortunoff_metadata.csv')\n",
    "df_testimonies = df_testimonies.merge(additional_metadata)"
   ]
  },
  {
   "cell_type": "code",
   "execution_count": 177,
   "metadata": {},
   "outputs": [
    {
     "data": {
      "text/html": [
       "<div>\n",
       "<style scoped>\n",
       "    .dataframe tbody tr th:only-of-type {\n",
       "        vertical-align: middle;\n",
       "    }\n",
       "\n",
       "    .dataframe tbody tr th {\n",
       "        vertical-align: top;\n",
       "    }\n",
       "\n",
       "    .dataframe thead th {\n",
       "        text-align: right;\n",
       "    }\n",
       "</style>\n",
       "<table border=\"1\" class=\"dataframe\">\n",
       "  <thead>\n",
       "    <tr style=\"text-align: right;\">\n",
       "      <th></th>\n",
       "      <th>recording_year</th>\n",
       "      <th>testimony_title</th>\n",
       "      <th>ghetto_names</th>\n",
       "      <th>gender</th>\n",
       "      <th>provenance</th>\n",
       "      <th>camp_names</th>\n",
       "      <th>collection</th>\n",
       "      <th>interviewee_name</th>\n",
       "      <th>thumbnail_url</th>\n",
       "      <th>interview_summary</th>\n",
       "      <th>shelfmark</th>\n",
       "      <th>testimony_id</th>\n",
       "      <th>media_url</th>\n",
       "      <th>status</th>\n",
       "      <th>country_of_birth</th>\n",
       "      <th>Unnamed: 0</th>\n",
       "      <th>interviewee_year_of_birth</th>\n",
       "      <th>interview_location</th>\n",
       "    </tr>\n",
       "  </thead>\n",
       "  <tbody>\n",
       "    <tr>\n",
       "      <th>0</th>\n",
       "      <td>1979</td>\n",
       "      <td>Eva B. Holocaust testimony (HVT-1)</td>\n",
       "      <td>[]</td>\n",
       "      <td>female</td>\n",
       "      <td>Holocaust Survivors Film Project</td>\n",
       "      <td>[Auschwitz, Theresienstadt]</td>\n",
       "      <td>Fortunoff</td>\n",
       "      <td>B., Eva,</td>\n",
       "      <td></td>\n",
       "      <td>Videotape testimony of Eva B., who was born in...</td>\n",
       "      <td>HVT-1</td>\n",
       "      <td>HVT-1</td>\n",
       "      <td>[]</td>\n",
       "      <td>transcript_processed</td>\n",
       "      <td>None</td>\n",
       "      <td>0</td>\n",
       "      <td>1925.0</td>\n",
       "      <td>New Haven, Conn. :</td>\n",
       "    </tr>\n",
       "    <tr>\n",
       "      <th>1</th>\n",
       "      <td>1979</td>\n",
       "      <td>Leon W. Holocaust testimony (HVT-2)</td>\n",
       "      <td>[Łódź]</td>\n",
       "      <td>male</td>\n",
       "      <td>Holocaust Survivors Film Project</td>\n",
       "      <td>[Czestochowa, Buchenwald]</td>\n",
       "      <td>Fortunoff</td>\n",
       "      <td>W., Leon,</td>\n",
       "      <td></td>\n",
       "      <td>Videotape testimony of Leon W., who was born i...</td>\n",
       "      <td>HVT-2</td>\n",
       "      <td>HVT-2</td>\n",
       "      <td>[]</td>\n",
       "      <td>transcript_processed</td>\n",
       "      <td>Poland</td>\n",
       "      <td>1</td>\n",
       "      <td>1925.0</td>\n",
       "      <td>New Haven, Conn. :</td>\n",
       "    </tr>\n",
       "    <tr>\n",
       "      <th>2</th>\n",
       "      <td>1979</td>\n",
       "      <td>Sally H. Holocaust testimony (HVT-3)</td>\n",
       "      <td>[Zwoleń]</td>\n",
       "      <td>female</td>\n",
       "      <td>Holocaust Survivors Film Project</td>\n",
       "      <td>[Czestochowa, Skarzysko-Kamienna]</td>\n",
       "      <td>Fortunoff</td>\n",
       "      <td>H., Sally,</td>\n",
       "      <td></td>\n",
       "      <td>Videotape testimony of Sally H., who was born ...</td>\n",
       "      <td>HVT-3</td>\n",
       "      <td>HVT-3</td>\n",
       "      <td>[]</td>\n",
       "      <td>transcript_processed</td>\n",
       "      <td>Poland</td>\n",
       "      <td>2</td>\n",
       "      <td>1928.0</td>\n",
       "      <td>New Haven, Conn. :</td>\n",
       "    </tr>\n",
       "    <tr>\n",
       "      <th>3</th>\n",
       "      <td>1980</td>\n",
       "      <td>Sylvia B. and Frances G. Holocaust testimony (...</td>\n",
       "      <td>[Ungvár]</td>\n",
       "      <td></td>\n",
       "      <td>Holocaust Survivors Film Project</td>\n",
       "      <td>[Riga-Kaiserwald, Auschwitz, Stutthof]</td>\n",
       "      <td>Fortunoff</td>\n",
       "      <td>B., Sylvia,</td>\n",
       "      <td></td>\n",
       "      <td>Videotape testimony of Sylvia B., who was born...</td>\n",
       "      <td>HVT-4</td>\n",
       "      <td>HVT-4</td>\n",
       "      <td>[]</td>\n",
       "      <td>transcript_processed</td>\n",
       "      <td>Czechoslovakia</td>\n",
       "      <td>3</td>\n",
       "      <td>1928.0</td>\n",
       "      <td>New Haven, Conn. :</td>\n",
       "    </tr>\n",
       "    <tr>\n",
       "      <th>4</th>\n",
       "      <td>1980</td>\n",
       "      <td>Renée G. Holocaust testimony (HVT-5)</td>\n",
       "      <td>[Łosice]</td>\n",
       "      <td>female</td>\n",
       "      <td>Holocaust Survivors Film Project</td>\n",
       "      <td>[]</td>\n",
       "      <td>Fortunoff</td>\n",
       "      <td>G., Renée,</td>\n",
       "      <td></td>\n",
       "      <td>Videotape testimony of Renée G., who was born...</td>\n",
       "      <td>HVT-5</td>\n",
       "      <td>HVT-5</td>\n",
       "      <td>[]</td>\n",
       "      <td>transcript_processed</td>\n",
       "      <td>Poland</td>\n",
       "      <td>4</td>\n",
       "      <td>1932.0</td>\n",
       "      <td>New Haven, Conn. :</td>\n",
       "    </tr>\n",
       "    <tr>\n",
       "      <th>...</th>\n",
       "      <td>...</td>\n",
       "      <td>...</td>\n",
       "      <td>...</td>\n",
       "      <td>...</td>\n",
       "      <td>...</td>\n",
       "      <td>...</td>\n",
       "      <td>...</td>\n",
       "      <td>...</td>\n",
       "      <td>...</td>\n",
       "      <td>...</td>\n",
       "      <td>...</td>\n",
       "      <td>...</td>\n",
       "      <td>...</td>\n",
       "      <td>...</td>\n",
       "      <td>...</td>\n",
       "      <td>...</td>\n",
       "      <td>...</td>\n",
       "      <td>...</td>\n",
       "    </tr>\n",
       "    <tr>\n",
       "      <th>171</th>\n",
       "      <td>1982</td>\n",
       "      <td>Serena N. Holocaust testimony (HVT-179)</td>\n",
       "      <td>[Munkács]</td>\n",
       "      <td>female</td>\n",
       "      <td>Video Archive for Holocaust Testimonies at Yale</td>\n",
       "      <td>[Auschwitz, Ravensbrück, Neustadt-Glewe]</td>\n",
       "      <td>Fortunoff</td>\n",
       "      <td>N., Serena,</td>\n",
       "      <td></td>\n",
       "      <td>Videotape testimony of Serena N., the oldest o...</td>\n",
       "      <td>HVT-179</td>\n",
       "      <td>HVT-179</td>\n",
       "      <td>[]</td>\n",
       "      <td>transcript_processed</td>\n",
       "      <td>Czechoslovakia</td>\n",
       "      <td>176</td>\n",
       "      <td>1927.0</td>\n",
       "      <td>New York, N.Y. :</td>\n",
       "    </tr>\n",
       "    <tr>\n",
       "      <th>172</th>\n",
       "      <td>1980</td>\n",
       "      <td>Abraham B. Holocaust testimony (HVT-180)</td>\n",
       "      <td>[]</td>\n",
       "      <td>male</td>\n",
       "      <td>Holocaust Survivors Film Project</td>\n",
       "      <td>[Auschwitz, Flossenbürg, Litoměřice, Dachau]</td>\n",
       "      <td>Fortunoff</td>\n",
       "      <td>B., Abraham,</td>\n",
       "      <td></td>\n",
       "      <td>Videotape testimony of Abraham B., who was bor...</td>\n",
       "      <td>HVT-180</td>\n",
       "      <td>HVT-180</td>\n",
       "      <td>[]</td>\n",
       "      <td>transcript_processed</td>\n",
       "      <td>Poland</td>\n",
       "      <td>177</td>\n",
       "      <td>1924.0</td>\n",
       "      <td>Norfolk, Va. :</td>\n",
       "    </tr>\n",
       "    <tr>\n",
       "      <th>173</th>\n",
       "      <td>1982</td>\n",
       "      <td>Bella G. Holocaust testimony (HVT-181)</td>\n",
       "      <td>[Czernowitz]</td>\n",
       "      <td>female</td>\n",
       "      <td>Video Archive for Holocaust Testimonies at Yale</td>\n",
       "      <td>[]</td>\n",
       "      <td>Fortunoff</td>\n",
       "      <td>G., Bella,</td>\n",
       "      <td></td>\n",
       "      <td>Videotape testimony of Bella G., who was born ...</td>\n",
       "      <td>HVT-181</td>\n",
       "      <td>HVT-181</td>\n",
       "      <td>[]</td>\n",
       "      <td>transcript_processed</td>\n",
       "      <td>None</td>\n",
       "      <td>178</td>\n",
       "      <td>1920.0</td>\n",
       "      <td>New York, N.Y. :</td>\n",
       "    </tr>\n",
       "    <tr>\n",
       "      <th>174</th>\n",
       "      <td>1982</td>\n",
       "      <td>Jonas G. Holocaust testimony (HVT-182)</td>\n",
       "      <td>[Czernowitz]</td>\n",
       "      <td>male</td>\n",
       "      <td>Video Archive for Holocaust Testimonies at Yale</td>\n",
       "      <td>[]</td>\n",
       "      <td>Fortunoff</td>\n",
       "      <td>G., Jonas,</td>\n",
       "      <td></td>\n",
       "      <td>Videotape testimony of Jonas G., who was born ...</td>\n",
       "      <td>HVT-182</td>\n",
       "      <td>HVT-182</td>\n",
       "      <td>[]</td>\n",
       "      <td>transcript_processed</td>\n",
       "      <td>None</td>\n",
       "      <td>179</td>\n",
       "      <td>1914.0</td>\n",
       "      <td>New York, N.Y. :</td>\n",
       "    </tr>\n",
       "    <tr>\n",
       "      <th>175</th>\n",
       "      <td>1982</td>\n",
       "      <td>Rose A. Holocaust testimony (HVT-183)</td>\n",
       "      <td>[Berehove]</td>\n",
       "      <td>female</td>\n",
       "      <td>Holocaust Survivors Film Project</td>\n",
       "      <td>[Auschwitz, Ravensbrück, Neustadt-Glewe]</td>\n",
       "      <td>Fortunoff</td>\n",
       "      <td>A., Rose,</td>\n",
       "      <td></td>\n",
       "      <td>Videotape testimony of Rose A., who was born i...</td>\n",
       "      <td>HVT-183</td>\n",
       "      <td>HVT-183</td>\n",
       "      <td>[]</td>\n",
       "      <td>transcript_processed</td>\n",
       "      <td>None</td>\n",
       "      <td>180</td>\n",
       "      <td>1916.0</td>\n",
       "      <td>New York, N.Y. :</td>\n",
       "    </tr>\n",
       "  </tbody>\n",
       "</table>\n",
       "<p>176 rows × 18 columns</p>\n",
       "</div>"
      ],
      "text/plain": [
       "     recording_year                                    testimony_title  \\\n",
       "0              1979                 Eva B. Holocaust testimony (HVT-1)   \n",
       "1              1979                Leon W. Holocaust testimony (HVT-2)   \n",
       "2              1979               Sally H. Holocaust testimony (HVT-3)   \n",
       "3              1980  Sylvia B. and Frances G. Holocaust testimony (...   \n",
       "4              1980              Renée G. Holocaust testimony (HVT-5)   \n",
       "..              ...                                                ...   \n",
       "171            1982            Serena N. Holocaust testimony (HVT-179)   \n",
       "172            1980           Abraham B. Holocaust testimony (HVT-180)   \n",
       "173            1982             Bella G. Holocaust testimony (HVT-181)   \n",
       "174            1982             Jonas G. Holocaust testimony (HVT-182)   \n",
       "175            1982              Rose A. Holocaust testimony (HVT-183)   \n",
       "\n",
       "     ghetto_names  gender                                       provenance  \\\n",
       "0              []  female                 Holocaust Survivors Film Project   \n",
       "1          [Łódź]    male                 Holocaust Survivors Film Project   \n",
       "2       [Zwoleń]  female                 Holocaust Survivors Film Project   \n",
       "3       [Ungvár]                         Holocaust Survivors Film Project   \n",
       "4        [Łosice]  female                 Holocaust Survivors Film Project   \n",
       "..            ...     ...                                              ...   \n",
       "171    [Munkács]  female  Video Archive for Holocaust Testimonies at Yale   \n",
       "172            []    male                 Holocaust Survivors Film Project   \n",
       "173  [Czernowitz]  female  Video Archive for Holocaust Testimonies at Yale   \n",
       "174  [Czernowitz]    male  Video Archive for Holocaust Testimonies at Yale   \n",
       "175    [Berehove]  female                 Holocaust Survivors Film Project   \n",
       "\n",
       "                                        camp_names collection  \\\n",
       "0                      [Auschwitz, Theresienstadt]  Fortunoff   \n",
       "1                        [Czestochowa, Buchenwald]  Fortunoff   \n",
       "2                [Czestochowa, Skarzysko-Kamienna]  Fortunoff   \n",
       "3           [Riga-Kaiserwald, Auschwitz, Stutthof]  Fortunoff   \n",
       "4                                               []  Fortunoff   \n",
       "..                                             ...        ...   \n",
       "171       [Auschwitz, Ravensbrück, Neustadt-Glewe]  Fortunoff   \n",
       "172  [Auschwitz, Flossenbürg, Litoměřice, Dachau]  Fortunoff   \n",
       "173                                             []  Fortunoff   \n",
       "174                                             []  Fortunoff   \n",
       "175       [Auschwitz, Ravensbrück, Neustadt-Glewe]  Fortunoff   \n",
       "\n",
       "    interviewee_name thumbnail_url  \\\n",
       "0           B., Eva,                 \n",
       "1          W., Leon,                 \n",
       "2         H., Sally,                 \n",
       "3        B., Sylvia,                 \n",
       "4        G., Renée,                 \n",
       "..               ...           ...   \n",
       "171      N., Serena,                 \n",
       "172     B., Abraham,                 \n",
       "173       G., Bella,                 \n",
       "174       G., Jonas,                 \n",
       "175        A., Rose,                 \n",
       "\n",
       "                                     interview_summary shelfmark testimony_id  \\\n",
       "0    Videotape testimony of Eva B., who was born in...     HVT-1        HVT-1   \n",
       "1    Videotape testimony of Leon W., who was born i...     HVT-2        HVT-2   \n",
       "2    Videotape testimony of Sally H., who was born ...     HVT-3        HVT-3   \n",
       "3    Videotape testimony of Sylvia B., who was born...     HVT-4        HVT-4   \n",
       "4    Videotape testimony of Renée G., who was born...     HVT-5        HVT-5   \n",
       "..                                                 ...       ...          ...   \n",
       "171  Videotape testimony of Serena N., the oldest o...   HVT-179      HVT-179   \n",
       "172  Videotape testimony of Abraham B., who was bor...   HVT-180      HVT-180   \n",
       "173  Videotape testimony of Bella G., who was born ...   HVT-181      HVT-181   \n",
       "174  Videotape testimony of Jonas G., who was born ...   HVT-182      HVT-182   \n",
       "175  Videotape testimony of Rose A., who was born i...   HVT-183      HVT-183   \n",
       "\n",
       "    media_url                status country_of_birth  Unnamed: 0  \\\n",
       "0          []  transcript_processed             None           0   \n",
       "1          []  transcript_processed           Poland           1   \n",
       "2          []  transcript_processed           Poland           2   \n",
       "3          []  transcript_processed   Czechoslovakia           3   \n",
       "4          []  transcript_processed           Poland           4   \n",
       "..        ...                   ...              ...         ...   \n",
       "171        []  transcript_processed   Czechoslovakia         176   \n",
       "172        []  transcript_processed           Poland         177   \n",
       "173        []  transcript_processed             None         178   \n",
       "174        []  transcript_processed             None         179   \n",
       "175        []  transcript_processed             None         180   \n",
       "\n",
       "     interviewee_year_of_birth  interview_location  \n",
       "0                       1925.0  New Haven, Conn. :  \n",
       "1                       1925.0  New Haven, Conn. :  \n",
       "2                       1928.0  New Haven, Conn. :  \n",
       "3                       1928.0  New Haven, Conn. :  \n",
       "4                       1932.0  New Haven, Conn. :  \n",
       "..                         ...                 ...  \n",
       "171                     1927.0    New York, N.Y. :  \n",
       "172                     1924.0      Norfolk, Va. :  \n",
       "173                     1920.0    New York, N.Y. :  \n",
       "174                     1914.0    New York, N.Y. :  \n",
       "175                     1916.0    New York, N.Y. :  \n",
       "\n",
       "[176 rows x 18 columns]"
      ]
     },
     "execution_count": 177,
     "metadata": {},
     "output_type": "execute_result"
    }
   ],
   "source": [
    "df_testimonies"
   ]
  },
  {
   "cell_type": "markdown",
   "metadata": {},
   "source": [
    "### Print the number of testimonies that are processed and in the dataset"
   ]
  },
  {
   "cell_type": "code",
   "execution_count": 28,
   "metadata": {},
   "outputs": [
    {
     "name": "stdout",
     "output_type": "stream",
     "text": [
      "176\n"
     ]
    }
   ],
   "source": [
    "print (len(df_testimonies[df_testimonies['status']==\"transcript_processed\"]))"
   ]
  },
  {
   "cell_type": "markdown",
   "metadata": {},
   "source": [
    "### Make a historiogram about the distribution of interview years"
   ]
  },
  {
   "cell_type": "code",
   "execution_count": 29,
   "metadata": {},
   "outputs": [
    {
     "data": {
      "text/plain": [
       "<matplotlib.axes._subplots.AxesSubplot at 0x1a21fb4400>"
      ]
     },
     "execution_count": 29,
     "metadata": {},
     "output_type": "execute_result"
    },
    {
     "data": {
      "image/png": "[encoded data removed]",
      "text/plain": [
       "<Figure size 432x288 with 1 Axes>"
      ]
     },
     "metadata": {
      "needs_background": "light"
     },
     "output_type": "display_data"
    }
   ],
   "source": [
    "df_testimonies.recording_year.plot.hist()"
   ]
  },
  {
   "cell_type": "markdown",
   "metadata": {},
   "source": [
    "### Print the earliest and latest interviews"
   ]
  },
  {
   "cell_type": "code",
   "execution_count": 30,
   "metadata": {},
   "outputs": [
    {
     "data": {
      "text/plain": [
       "1983"
      ]
     },
     "execution_count": 30,
     "metadata": {},
     "output_type": "execute_result"
    }
   ],
   "source": [
    "df_testimonies.recording_year.max()"
   ]
  },
  {
   "cell_type": "code",
   "execution_count": 31,
   "metadata": {},
   "outputs": [
    {
     "data": {
      "text/plain": [
       "1979"
      ]
     },
     "execution_count": 31,
     "metadata": {},
     "output_type": "execute_result"
    }
   ],
   "source": [
    "df_testimonies.recording_year.min()"
   ]
  },
  {
   "cell_type": "markdown",
   "metadata": {},
   "source": [
    "### Print the interview locations"
   ]
  },
  {
   "cell_type": "markdown",
   "metadata": {},
   "source": [
    "todo"
   ]
  },
  {
   "cell_type": "markdown",
   "metadata": {},
   "source": [
    "### Print the average token number"
   ]
  },
  {
   "cell_type": "code",
   "execution_count": 32,
   "metadata": {},
   "outputs": [],
   "source": [
    "def get_token_counts(testimony_id):\n",
    "    result = blacklab.iterable_results('[]',lemma=False,path_to_phrase_model=None,window=0,document_ids=[testimony_id])\n",
    "    tokens = [element for element in result]\n",
    "    return (len(tokens))"
   ]
  },
  {
   "cell_type": "code",
   "execution_count": 33,
   "metadata": {},
   "outputs": [],
   "source": [
    "#df_testimonies['word_count'] = df_testimonies.testimony_id.progress_apply(get_token_counts)"
   ]
  },
  {
   "cell_type": "markdown",
   "metadata": {},
   "source": [
    "### Print the median token number"
   ]
  },
  {
   "cell_type": "code",
   "execution_count": 34,
   "metadata": {},
   "outputs": [],
   "source": [
    "#df_testimonies['word_count'].median()"
   ]
  },
  {
   "cell_type": "markdown",
   "metadata": {},
   "source": [
    "### Print the shortest interviews"
   ]
  },
  {
   "cell_type": "code",
   "execution_count": 35,
   "metadata": {},
   "outputs": [],
   "source": [
    "#df_testimonies.sort_values('word_count')[0:5][['testimony_title','word_count']]"
   ]
  },
  {
   "cell_type": "markdown",
   "metadata": {},
   "source": [
    "### Print the longest interviews"
   ]
  },
  {
   "cell_type": "code",
   "execution_count": 36,
   "metadata": {},
   "outputs": [],
   "source": [
    "#df_testimonies.sort_values('word_count',ascending=False)[0:5][['testimony_title','word_count']]"
   ]
  },
  {
   "cell_type": "markdown",
   "metadata": {},
   "source": [
    "### Print a histogram"
   ]
  },
  {
   "cell_type": "code",
   "execution_count": 37,
   "metadata": {},
   "outputs": [],
   "source": [
    "#df_testimonies.word_count.plot.hist()"
   ]
  },
  {
   "cell_type": "code",
   "execution_count": 38,
   "metadata": {},
   "outputs": [
    {
     "data": {
      "text/plain": [
       "Index(['recording_year', 'testimony_title', 'ghetto_names', 'gender',\n",
       "       'provenance', 'camp_names', 'collection', 'interviewee_name',\n",
       "       'thumbnail_url', 'interview_summary', 'shelfmark', 'testimony_id',\n",
       "       'media_url', 'status'],\n",
       "      dtype='object')"
      ]
     },
     "execution_count": 38,
     "metadata": {},
     "output_type": "execute_result"
    }
   ],
   "source": [
    "df_testimonies.columns"
   ]
  },
  {
   "cell_type": "markdown",
   "metadata": {},
   "source": [
    "### Print the number of men and women interviewees"
   ]
  },
  {
   "cell_type": "markdown",
   "metadata": {},
   "source": [
    "First, women:"
   ]
  },
  {
   "cell_type": "code",
   "execution_count": 39,
   "metadata": {},
   "outputs": [],
   "source": [
    "women = len(df_testimonies[(df_testimonies.gender==\"female\") & (df_testimonies.testimony_title.str.contains('and')==False)])"
   ]
  },
  {
   "cell_type": "code",
   "execution_count": 40,
   "metadata": {},
   "outputs": [
    {
     "name": "stdout",
     "output_type": "stream",
     "text": [
      "78\n"
     ]
    }
   ],
   "source": [
    "print (women)"
   ]
  },
  {
   "cell_type": "markdown",
   "metadata": {},
   "source": [
    "Second, men:"
   ]
  },
  {
   "cell_type": "code",
   "execution_count": 41,
   "metadata": {},
   "outputs": [],
   "source": [
    "men = len(df_testimonies[(df_testimonies.gender==\"male\") & (df_testimonies.testimony_title.str.contains('and')==False)])"
   ]
  },
  {
   "cell_type": "code",
   "execution_count": 42,
   "metadata": {},
   "outputs": [
    {
     "name": "stdout",
     "output_type": "stream",
     "text": [
      "71\n"
     ]
    }
   ],
   "source": [
    "print (men)"
   ]
  },
  {
   "cell_type": "code",
   "execution_count": 43,
   "metadata": {},
   "outputs": [
    {
     "data": {
      "image/png": "[encoded data removed]",
      "text/plain": [
       "<Figure size 360x360 with 1 Axes>"
      ]
     },
     "metadata": {},
     "output_type": "display_data"
    }
   ],
   "source": [
    "gender_plot = pd.DataFrame({'count':[women,men]},index=['women','men'])\n",
    "plot = gender_plot.plot.pie(y='count', figsize=(5, 5))"
   ]
  },
  {
   "cell_type": "code",
   "execution_count": 44,
   "metadata": {},
   "outputs": [
    {
     "data": {
      "text/plain": [
       "'HVT-22'"
      ]
     },
     "execution_count": 44,
     "metadata": {},
     "output_type": "execute_result"
    }
   ],
   "source": [
    "df_testimonies.testimony_id[20]"
   ]
  },
  {
   "cell_type": "code",
   "execution_count": 171,
   "metadata": {},
   "outputs": [],
   "source": [
    "def identify_country_of_birth(text):\n",
    "    import spacy\n",
    "    import pycountry\n",
    "    hist_countries = [\"Yugoslavia\",'Czechoslovakia','Russia']\n",
    "    countries = [element.name for element in list(pycountry.countries)]\n",
    "    countries.extend(hist_countries)\n",
    "    born_sentence=[]\n",
    "    nlp = spacy.load('en_core_web_sm') # Load the English Model\n",
    "    doc = nlp(text)\n",
    "    result = []\n",
    "    for i,sent in enumerate(doc.sents):\n",
    "        sentence_tokens = [token.text for token in sent]\n",
    "        if \"born\" in sentence_tokens:\n",
    "            labels = [token.text for token in sent]\n",
    "            doc = nlp(' '.join(labels))\n",
    "            if doc.ents:\n",
    "                for element in doc.ents:\n",
    "                    if (element.text in countries):\n",
    "                        result.append(element.text)\n",
    "            break\n",
    "        if i==3:\n",
    "            break\n",
    "    if len(result)==1:\n",
    "        return result[0]\n",
    "    elif len(result)>1:\n",
    "        return \"fuzzy\"\n",
    "    else:\n",
    "        return None"
   ]
  },
  {
   "cell_type": "code",
   "execution_count": 174,
   "metadata": {},
   "outputs": [],
   "source": [
    "#df_testimonies['country_of_birth'] = df_testimonies.interview_summary.progress_apply(identify_country_of_birth)"
   ]
  },
  {
   "cell_type": "code",
   "execution_count": 178,
   "metadata": {},
   "outputs": [
    {
     "data": {
      "text/plain": [
       "Index(['recording_year', 'testimony_title', 'ghetto_names', 'gender',\n",
       "       'provenance', 'camp_names', 'collection', 'interviewee_name',\n",
       "       'thumbnail_url', 'interview_summary', 'shelfmark', 'testimony_id',\n",
       "       'media_url', 'status', 'country_of_birth', 'Unnamed: 0',\n",
       "       'interviewee_year_of_birth', 'interview_location'],\n",
       "      dtype='object')"
      ]
     },
     "execution_count": 178,
     "metadata": {},
     "output_type": "execute_result"
    }
   ],
   "source": [
    "df_testimonies.columns"
   ]
  },
  {
   "cell_type": "markdown",
   "metadata": {},
   "source": [
    "### Visualize the distribution of year of births"
   ]
  },
  {
   "cell_type": "code",
   "execution_count": 181,
   "metadata": {},
   "outputs": [
    {
     "data": {
      "text/plain": [
       "<matplotlib.axes._subplots.AxesSubplot at 0x1a221c2e80>"
      ]
     },
     "execution_count": 181,
     "metadata": {},
     "output_type": "execute_result"
    },
    {
     "data": {
      "image/png": "[encoded data removed]",
      "text/plain": [
       "<Figure size 432x288 with 1 Axes>"
      ]
     },
     "metadata": {
      "needs_background": "light"
     },
     "output_type": "display_data"
    }
   ],
   "source": [
    "df_testimonies.interviewee_year_of_birth.plot.hist()"
   ]
  },
  {
   "cell_type": "code",
   "execution_count": 192,
   "metadata": {},
   "outputs": [
    {
     "data": {
      "text/plain": [
       "<matplotlib.axes._subplots.AxesSubplot at 0x1a29f57240>"
      ]
     },
     "execution_count": 192,
     "metadata": {},
     "output_type": "execute_result"
    },
    {
     "data": {
      "image/png": "[encoded data removed]",
      "text/plain": [
       "<Figure size 432x288 with 1 Axes>"
      ]
     },
     "metadata": {
      "needs_background": "light"
     },
     "output_type": "display_data"
    }
   ],
   "source": [
    "df_testimonies[df_testimonies.gender==\"female\"].interviewee_year_of_birth.plot.hist()"
   ]
  },
  {
   "cell_type": "code",
   "execution_count": 228,
   "metadata": {},
   "outputs": [
    {
     "data": {
      "text/plain": [
       "<matplotlib.axes._subplots.AxesSubplot at 0x1a2a5f6e80>"
      ]
     },
     "execution_count": 228,
     "metadata": {},
     "output_type": "execute_result"
    },
    {
     "data": {
      "image/png": "[encoded data removed]",
      "text/plain": [
       "<Figure size 432x288 with 1 Axes>"
      ]
     },
     "metadata": {
      "needs_background": "light"
     },
     "output_type": "display_data"
    }
   ],
   "source": [
    "df_testimonies[df_testimonies.gender==\"male\"].interviewee_year_of_birth.plot.hist()"
   ]
  },
  {
   "cell_type": "code",
   "execution_count": 225,
   "metadata": {},
   "outputs": [],
   "source": [
    "women = df_testimonies[df_testimonies.gender==\"female\"][['interviewee_year_of_birth']]\n",
    "men = df_testimonies[df_testimonies.gender==\"male\"][['interviewee_year_of_birth']]\n",
    "#df = pd.DataFrame([women,men],index=['women','men'])"
   ]
  },
  {
   "cell_type": "code",
   "execution_count": 223,
   "metadata": {},
   "outputs": [
    {
     "data": {
      "text/html": [
       "<div>\n",
       "<style scoped>\n",
       "    .dataframe tbody tr th:only-of-type {\n",
       "        vertical-align: middle;\n",
       "    }\n",
       "\n",
       "    .dataframe tbody tr th {\n",
       "        vertical-align: top;\n",
       "    }\n",
       "\n",
       "    .dataframe thead th {\n",
       "        text-align: right;\n",
       "    }\n",
       "</style>\n",
       "<table border=\"1\" class=\"dataframe\">\n",
       "  <thead>\n",
       "    <tr style=\"text-align: right;\">\n",
       "      <th></th>\n",
       "      <th>interviewee_year_of_birth</th>\n",
       "    </tr>\n",
       "  </thead>\n",
       "  <tbody>\n",
       "    <tr>\n",
       "      <th>0</th>\n",
       "      <td>1925.0</td>\n",
       "    </tr>\n",
       "    <tr>\n",
       "      <th>2</th>\n",
       "      <td>1928.0</td>\n",
       "    </tr>\n",
       "    <tr>\n",
       "      <th>4</th>\n",
       "      <td>1932.0</td>\n",
       "    </tr>\n",
       "    <tr>\n",
       "      <th>5</th>\n",
       "      <td>1924.0</td>\n",
       "    </tr>\n",
       "    <tr>\n",
       "      <th>6</th>\n",
       "      <td>1929.0</td>\n",
       "    </tr>\n",
       "    <tr>\n",
       "      <th>...</th>\n",
       "      <td>...</td>\n",
       "    </tr>\n",
       "    <tr>\n",
       "      <th>167</th>\n",
       "      <td>1919.0</td>\n",
       "    </tr>\n",
       "    <tr>\n",
       "      <th>169</th>\n",
       "      <td>1928.0</td>\n",
       "    </tr>\n",
       "    <tr>\n",
       "      <th>171</th>\n",
       "      <td>1927.0</td>\n",
       "    </tr>\n",
       "    <tr>\n",
       "      <th>173</th>\n",
       "      <td>1920.0</td>\n",
       "    </tr>\n",
       "    <tr>\n",
       "      <th>175</th>\n",
       "      <td>1916.0</td>\n",
       "    </tr>\n",
       "  </tbody>\n",
       "</table>\n",
       "<p>78 rows × 1 columns</p>\n",
       "</div>"
      ],
      "text/plain": [
       "     interviewee_year_of_birth\n",
       "0                       1925.0\n",
       "2                       1928.0\n",
       "4                       1932.0\n",
       "5                       1924.0\n",
       "6                       1929.0\n",
       "..                         ...\n",
       "167                     1919.0\n",
       "169                     1928.0\n",
       "171                     1927.0\n",
       "173                     1920.0\n",
       "175                     1916.0\n",
       "\n",
       "[78 rows x 1 columns]"
      ]
     },
     "execution_count": 223,
     "metadata": {},
     "output_type": "execute_result"
    }
   ],
   "source": [
    "women"
   ]
  },
  {
   "cell_type": "code",
   "execution_count": 233,
   "metadata": {},
   "outputs": [
    {
     "name": "stderr",
     "output_type": "stream",
     "text": [
      "/miniconda3/lib/python3.7/site-packages/scipy/stats/stats.py:1713: FutureWarning: Using a non-tuple sequence for multidimensional indexing is deprecated; use `arr[tuple(seq)]` instead of `arr[seq]`. In the future this will be interpreted as an array index, `arr[np.array(seq)]`, which will result either in an error or a different result.\n",
      "  return np.add.reduce(sorted[indexer] * weights, axis=axis) / sumval\n",
      "/miniconda3/lib/python3.7/site-packages/scipy/stats/stats.py:1713: FutureWarning: Using a non-tuple sequence for multidimensional indexing is deprecated; use `arr[tuple(seq)]` instead of `arr[seq]`. In the future this will be interpreted as an array index, `arr[np.array(seq)]`, which will result either in an error or a different result.\n",
      "  return np.add.reduce(sorted[indexer] * weights, axis=axis) / sumval\n"
     ]
    },
    {
     "data": {
      "text/plain": [
       "<matplotlib.axes._subplots.AxesSubplot at 0x1a2e3e0fd0>"
      ]
     },
     "execution_count": 233,
     "metadata": {},
     "output_type": "execute_result"
    },
    {
     "data": {
      "image/png": "[encoded data removed]",
      "text/plain": [
       "<Figure size 842.4x595.44 with 1 Axes>"
      ]
     },
     "metadata": {
      "needs_background": "light"
     },
     "output_type": "display_data"
    }
   ],
   "source": [
    "import seaborn as sns\n",
    "import matplotlib.pyplot as plt\n",
    "a4_dims = (11.7, 8.27)\n",
    "fig, ax = plt.subplots(figsize=a4_dims)\n",
    "sns.distplot(men[['interviewee_year_of_birth']].dropna(), hist=True, rug=False,label=\"Men\")\n",
    "sns.distplot(women[['interviewee_year_of_birth']].dropna(), hist=True, rug=False,label = 'Female')"
   ]
  },
  {
   "cell_type": "code",
   "execution_count": 184,
   "metadata": {},
   "outputs": [
    {
     "data": {
      "text/plain": [
       "1892.0"
      ]
     },
     "execution_count": 184,
     "metadata": {},
     "output_type": "execute_result"
    }
   ],
   "source": [
    "df_testimonies.interviewee_year_of_birth.min()"
   ]
  },
  {
   "cell_type": "code",
   "execution_count": 186,
   "metadata": {},
   "outputs": [
    {
     "data": {
      "text/plain": [
       "1921.35"
      ]
     },
     "execution_count": 186,
     "metadata": {},
     "output_type": "execute_result"
    }
   ],
   "source": [
    "df_testimonies.interviewee_year_of_birth.mean()"
   ]
  },
  {
   "cell_type": "code",
   "execution_count": 187,
   "metadata": {},
   "outputs": [],
   "source": [
    "df_testimonies['age_interview_year']=df_testimonies['recording_year']-df_testimonies['interviewee_year_of_birth']"
   ]
  },
  {
   "cell_type": "code",
   "execution_count": 189,
   "metadata": {},
   "outputs": [
    {
     "data": {
      "text/plain": [
       "<matplotlib.axes._subplots.AxesSubplot at 0x1a2a145a58>"
      ]
     },
     "execution_count": 189,
     "metadata": {},
     "output_type": "execute_result"
    },
    {
     "data": {
      "image/png": "[encoded data removed]",
      "text/plain": [
       "<Figure size 432x288 with 1 Axes>"
      ]
     },
     "metadata": {
      "needs_background": "light"
     },
     "output_type": "display_data"
    }
   ],
   "source": [
    "df_testimonies['age_interview_year'].plot.hist()"
   ]
  },
  {
   "cell_type": "code",
   "execution_count": 190,
   "metadata": {},
   "outputs": [
    {
     "data": {
      "text/plain": [
       "58.82857142857143"
      ]
     },
     "execution_count": 190,
     "metadata": {},
     "output_type": "execute_result"
    }
   ],
   "source": [
    "df_testimonies['age_interview_year'].mean()"
   ]
  }
 ],
 "metadata": {
  "kernelspec": {
   "display_name": "Python 3",
   "language": "python",
   "name": "python3"
  },
  "language_info": {
   "codemirror_mode": {
    "name": "ipython",
    "version": 3
   },
   "file_extension": ".py",
   "mimetype": "text/x-python",
   "name": "python",
   "nbconvert_exporter": "python",
   "pygments_lexer": "ipython3",
   "version": "3.7.2"
  }
 },
 "nbformat": 4,
 "nbformat_minor": 2
}
